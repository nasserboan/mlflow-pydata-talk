{
 "cells": [
  {
   "cell_type": "code",
   "execution_count": 1,
   "id": "f11a186b-9b78-4bdc-9929-e1b4b8d4a059",
   "metadata": {},
   "outputs": [],
   "source": [
    "import pandas as pd\n",
    "import cv2\n",
    "from sklearn.datasets import load_digits\n",
    "import mlflow\n",
    "import os"
   ]
  },
  {
   "cell_type": "code",
   "execution_count": 3,
   "id": "8572aa3e-c0e1-432f-bc9c-08e07020841d",
   "metadata": {},
   "outputs": [
    {
     "data": {
      "text/plain": [
       "'/home/nsboan/projetos/mlflow-pydata-talk/notebooks/data/raw/images/bacon.jpg'"
      ]
     },
     "execution_count": 3,
     "metadata": {},
     "output_type": "execute_result"
    }
   ],
   "source": [
    "os.path.join(os.getcwd(),'data/raw/images','bacon.jpg')"
   ]
  },
  {
   "cell_type": "code",
   "execution_count": 58,
   "id": "6123e444-0ee9-4170-8f6e-73e4c95405c7",
   "metadata": {},
   "outputs": [],
   "source": [
    "mlflow.log_params({'bacon':1})"
   ]
  },
  {
   "cell_type": "code",
   "execution_count": 61,
   "id": "a47bf9e9-1b2d-43ae-a4d0-5ea046b00157",
   "metadata": {},
   "outputs": [],
   "source": [
    "import sklearn"
   ]
  },
  {
   "cell_type": "code",
   "execution_count": 62,
   "id": "e354f167-53d6-4d91-8f37-5f0b99fc3826",
   "metadata": {},
   "outputs": [
    {
     "data": {
      "text/plain": [
       "'1.3.0'"
      ]
     },
     "execution_count": 62,
     "metadata": {},
     "output_type": "execute_result"
    }
   ],
   "source": [
    "sklearn.__version__"
   ]
  },
  {
   "cell_type": "code",
   "execution_count": 59,
   "id": "b4a0ef08-bed6-4734-8e83-cc4f103eeaed",
   "metadata": {},
   "outputs": [
    {
     "data": {
      "text/plain": [
       "'file:///home/nsboan/projetos/mlflow-pydata-talk/notebooks/mlruns'"
      ]
     },
     "execution_count": 59,
     "metadata": {},
     "output_type": "execute_result"
    }
   ],
   "source": [
    "mlflow.get_tracking_uri()"
   ]
  },
  {
   "cell_type": "code",
   "execution_count": 49,
   "id": "531d949c-681d-4ffb-be44-15e5e2e10ddc",
   "metadata": {},
   "outputs": [],
   "source": [
    "import numpy as np"
   ]
  },
  {
   "cell_type": "code",
   "execution_count": null,
   "id": "62f747a5-108c-449a-89bf-c81ac9dedc70",
   "metadata": {},
   "outputs": [],
   "source": []
  },
  {
   "cell_type": "code",
   "execution_count": 41,
   "id": "a76a3144-441a-4223-8b32-6024e398bfcb",
   "metadata": {},
   "outputs": [],
   "source": [
    "raw_images = load_digits(as_frame=True)\n",
    "\n",
    "\n",
    "for idx,img,target in zip(range(len(raw_images['images'])),\n",
    "                                raw_images['images'],\n",
    "                                raw_data['target']):\n",
    "    cv2.imwrite(f'img_{idx}_{target}.jpg', img)"
   ]
  }
 ],
 "metadata": {
  "kernelspec": {
   "display_name": "Python 3 (ipykernel)",
   "language": "python",
   "name": "python3"
  },
  "language_info": {
   "codemirror_mode": {
    "name": "ipython",
    "version": 3
   },
   "file_extension": ".py",
   "mimetype": "text/x-python",
   "name": "python",
   "nbconvert_exporter": "python",
   "pygments_lexer": "ipython3",
   "version": "3.10.12"
  }
 },
 "nbformat": 4,
 "nbformat_minor": 5
}
