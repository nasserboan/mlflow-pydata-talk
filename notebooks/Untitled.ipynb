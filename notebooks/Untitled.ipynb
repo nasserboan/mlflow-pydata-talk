{
 "cells": [
  {
   "cell_type": "code",
   "execution_count": 5,
   "id": "824a183a-3758-4440-84bf-5b3880800580",
   "metadata": {},
   "outputs": [],
   "source": [
    "import torchvision"
   ]
  },
  {
   "cell_type": "code",
   "execution_count": 6,
   "id": "5ed5a44e-3578-4cb3-96c9-63578af5d005",
   "metadata": {},
   "outputs": [
    {
     "data": {
      "text/plain": [
       "'0.15.2+cu117'"
      ]
     },
     "execution_count": 6,
     "metadata": {},
     "output_type": "execute_result"
    }
   ],
   "source": [
    "torchvision.__version__"
   ]
  },
  {
   "cell_type": "code",
   "execution_count": 7,
   "id": "1e1d8e21-6182-4526-ab65-4ec2ba67e220",
   "metadata": {},
   "outputs": [],
   "source": [
    "from torchvision.io import read_image"
   ]
  },
  {
   "cell_type": "code",
   "execution_count": 8,
   "id": "bad8cccb-431a-478c-ac32-f3875d2795c9",
   "metadata": {},
   "outputs": [
    {
     "ename": "ImportError",
     "evalue": "attempted relative import with no known parent package",
     "output_type": "error",
     "traceback": [
      "\u001b[0;31m---------------------------------------------------------------------------\u001b[0m",
      "\u001b[0;31mImportError\u001b[0m                               Traceback (most recent call last)",
      "\u001b[0;32m/tmp/ipykernel_92261/2961671500.py\u001b[0m in \u001b[0;36m<cell line: 1>\u001b[0;34m()\u001b[0m\n\u001b[0;32m----> 1\u001b[0;31m \u001b[0;32mfrom\u001b[0m \u001b[0;34m.\u001b[0m\u001b[0;34m.\u001b[0m\u001b[0msrc\u001b[0m\u001b[0;34m.\u001b[0m\u001b[0mtrain_model\u001b[0m \u001b[0;32mimport\u001b[0m \u001b[0;34m*\u001b[0m\u001b[0;34m\u001b[0m\u001b[0;34m\u001b[0m\u001b[0m\n\u001b[0m",
      "\u001b[0;31mImportError\u001b[0m: attempted relative import with no known parent package"
     ]
    }
   ],
   "source": [
    "from ..src.train_model import *"
   ]
  },
  {
   "cell_type": "code",
   "execution_count": null,
   "id": "f20b3d21-d84e-4107-8dac-80cfc843e5b1",
   "metadata": {},
   "outputs": [],
   "source": []
  },
  {
   "cell_type": "code",
   "execution_count": null,
   "id": "e2fd9396-df22-4476-8803-1ec447359599",
   "metadata": {},
   "outputs": [],
   "source": []
  },
  {
   "cell_type": "code",
   "execution_count": null,
   "id": "8de13c73-cea1-4d3b-9c0f-b50dcfe0172b",
   "metadata": {},
   "outputs": [],
   "source": []
  },
  {
   "cell_type": "code",
   "execution_count": 2,
   "id": "0d806613-976f-47ae-8e7a-e5df958a5f26",
   "metadata": {
    "tags": []
   },
   "outputs": [
    {
     "name": "stdout",
     "output_type": "stream",
     "text": [
      "Using cuda device\n"
     ]
    }
   ],
   "source": [
    "import torch\n",
    "from torch import nn\n",
    "from torch.utils.data import DataLoader\n",
    "from torchvision import datasets\n",
    "from torchvision import transforms\n",
    "from torchvision.io import read_image\n",
    "import torch.optim as optim\n",
    "from torch.utils.data import Dataset\n",
    "import cv2\n",
    "import numpy as np\n",
    "import pandas as pd\n",
    "import os\n",
    "import mlflow\n",
    "\n",
    "device = (\n",
    "    \"cuda\"\n",
    "    if torch.cuda.is_available()\n",
    "    else \"mps\"\n",
    "    if torch.backends.mps.is_available()\n",
    "    else \"cpu\"\n",
    ")\n",
    "\n",
    "print(f\"Using {device} device\")"
   ]
  },
  {
   "cell_type": "code",
   "execution_count": 3,
   "id": "101bbb60-2047-4ecf-bb01-1f6bb74c93ec",
   "metadata": {},
   "outputs": [],
   "source": [
    "class MyImageDataset(Dataset):\n",
    "    def __init__(self, annotations_file, transform=None, target_transform=None):\n",
    "        self._img_labels = pd.read_csv(annotations_file)\n",
    "        self._transform = transform\n",
    "        self._target_transform = target_transform\n",
    "        self.num_workers = 8\n",
    "    \n",
    "    def __len__(self):\n",
    "        return len(self._img_labels)\n",
    "    \n",
    "    def __getitem__(self, idx):\n",
    "        img_path = self._img_labels.iloc[idx,0][3:]\n",
    "        image = read_image(img_path)\n",
    "        label = self._img_labels.iloc[idx,1]\n",
    "        if self._transform:\n",
    "            image = self._transform(image)\n",
    "        if self._target_transform:\n",
    "            label = self._target_transform(label)\n",
    "        \n",
    "        return image.float(), label"
   ]
  },
  {
   "cell_type": "code",
   "execution_count": 4,
   "id": "b32dd762-8ecd-4d01-8860-ffcbaa159f7d",
   "metadata": {},
   "outputs": [],
   "source": [
    "dataset = MyImageDataset('../data/indexes/index_train.csv')\n",
    "data_loader = DataLoader(dataset, batch_size=64, shuffle=True)"
   ]
  },
  {
   "cell_type": "markdown",
   "id": "90888b86-81fe-4c2e-a95e-1818ef1af0a7",
   "metadata": {},
   "source": [
    "https://lightning.ai/docs/pytorch/latest/model/train_model_basic.html"
   ]
  },
  {
   "cell_type": "code",
   "execution_count": 6,
   "id": "77c48e2c-fa24-4c15-91fe-267b98279bfa",
   "metadata": {
    "tags": []
   },
   "outputs": [
    {
     "name": "stderr",
     "output_type": "stream",
     "text": [
      "/home/nboan/.local/lib/python3.10/site-packages/torch/nn/modules/lazy.py:180: UserWarning: Lazy modules are a new feature under heavy development so changes to the API or functionality can happen at any moment.\n",
      "  warnings.warn('Lazy modules are a new feature under heavy development '\n"
     ]
    },
    {
     "data": {
      "text/plain": [
       "Sequential(\n",
       "  (conv_2d_1): Conv2d(1, 32, kernel_size=(2, 2), stride=(1, 1))\n",
       "  (relu): ReLU()\n",
       "  (maxpool): MaxPool2d(kernel_size=(2, 2), stride=(2, 2), padding=0, dilation=1, ceil_mode=False)\n",
       "  (flatten): Flatten(start_dim=1, end_dim=-1)\n",
       "  (linear1): LazyLinear(in_features=0, out_features=10, bias=True)\n",
       ")"
      ]
     },
     "execution_count": 6,
     "metadata": {},
     "output_type": "execute_result"
    }
   ],
   "source": [
    "net = nn.Sequential()\n",
    "\n",
    "# net.add_module('flatten', nn.Flatten())\n",
    "# net.add_module(f'lin1',nn.Linear(784,128))\n",
    "# net.add_module(f'act1',nn.ReLU())\n",
    "# net.add_module(f'drop1',nn.Dropout(0.2))\n",
    "# net.add_module(f'lin2',nn.Linear(128,64))\n",
    "# net.add_module(f'act2',nn.ReLU())\n",
    "# net.add_module(f'drop2',nn.Dropout(0.2))\n",
    "    \n",
    "# net.add_module(f'out',nn.Linear(64,10))\n",
    "\n",
    "net.add_module('conv_2d_1', nn.Conv2d(1, 32, kernel_size=(2,2)))\n",
    "net.add_module('relu', nn.ReLU())\n",
    "net.add_module('maxpool', nn.MaxPool2d(kernel_size=(2,2)))\n",
    "net.add_module('flatten', nn.Flatten())\n",
    "net.add_module('linear1', nn.LazyLinear(out_features=10))\n",
    "\n",
    "net"
   ]
  },
  {
   "cell_type": "code",
   "execution_count": 8,
   "id": "5debb521-aa41-4a3f-b75f-5f768a0e4182",
   "metadata": {},
   "outputs": [
    {
     "data": {
      "text/plain": [
       "1"
      ]
     },
     "execution_count": 8,
     "metadata": {},
     "output_type": "execute_result"
    }
   ],
   "source": [
    "data_loader.batch_size"
   ]
  },
  {
   "cell_type": "code",
   "execution_count": 125,
   "id": "e1d49262-9d4e-4359-be6d-e9ccb933dfe4",
   "metadata": {
    "tags": []
   },
   "outputs": [
    {
     "name": "stdout",
     "output_type": "stream",
     "text": [
      "loss: 3.850490  [    1/   12]\n",
      "loss: 2.741665  [    3/   12]\n",
      "loss: 1.996977  [    5/   12]\n",
      "loss: 1.825573  [    7/   12]\n",
      "loss: 1.548487  [    9/   12]\n",
      "loss: 1.305902  [   11/   12]\n",
      "loss: 1.417979  [   12/   12]\n"
     ]
    }
   ],
   "source": [
    "optmizer = optim.SGD(net.parameters(), lr = 1e-3)\n",
    "\n",
    "size = len(data_loader)\n",
    "net.train()\n",
    "for batch, (X,y) in enumerate(data_loader):\n",
    "    pred = net(X)\n",
    "    loss_fn = nn.CrossEntropyLoss()\n",
    "    loss = loss_fn(pred, y)\n",
    "    \n",
    "    loss.backward()\n",
    "    optmizer.step()\n",
    "    optmizer.zero_grad()\n",
    "    \n",
    "    if batch % 2 == 0:\n",
    "        loss, current = loss.item(), batch+1\n",
    "        print(f\"loss: {loss:>7f}  [{current:>5d}/{size:>5d}]\")\n",
    "else:\n",
    "    loss, current = loss.item(), batch+1\n",
    "    print(f\"loss: {loss:>7f}  [{current:>5d}/{size:>5d}]\")"
   ]
  },
  {
   "cell_type": "code",
   "execution_count": null,
   "id": "e2ae7730-9de0-4126-a5f1-269feb4fce36",
   "metadata": {},
   "outputs": [],
   "source": []
  },
  {
   "cell_type": "code",
   "execution_count": null,
   "id": "f6cf9b62-a461-4824-b0e0-59e8d2b91f37",
   "metadata": {},
   "outputs": [],
   "source": []
  },
  {
   "cell_type": "code",
   "execution_count": null,
   "id": "3be802b4-3bf6-4a2b-8419-c0348a51ca38",
   "metadata": {},
   "outputs": [],
   "source": []
  },
  {
   "cell_type": "code",
   "execution_count": null,
   "id": "be35287f-0c3e-486d-ac8e-3cea89225ab6",
   "metadata": {},
   "outputs": [],
   "source": []
  },
  {
   "cell_type": "code",
   "execution_count": 50,
   "id": "7c89044e-d924-40f4-a299-e6e5b341def0",
   "metadata": {
    "tags": []
   },
   "outputs": [],
   "source": [
    "arr = list(train_dataloader)[0]"
   ]
  },
  {
   "cell_type": "code",
   "execution_count": 51,
   "id": "d321d50d-ec36-4381-8a99-c46add7a0a20",
   "metadata": {
    "tags": []
   },
   "outputs": [
    {
     "data": {
      "text/plain": [
       "torch.Size([64, 1, 28, 28])"
      ]
     },
     "execution_count": 51,
     "metadata": {},
     "output_type": "execute_result"
    }
   ],
   "source": [
    "arr[0].shape"
   ]
  },
  {
   "cell_type": "code",
   "execution_count": 58,
   "id": "fce8c45a-499c-4b68-8c09-fb2d38517cc8",
   "metadata": {
    "tags": []
   },
   "outputs": [
    {
     "data": {
      "text/plain": [
       "tensor([4, 2, 3, 3, 7, 1, 3, 4, 3, 4, 3, 2, 3, 3, 3, 4, 4, 2, 4, 3, 3, 3, 3, 4,\n",
       "        3, 7, 2, 2, 3, 3, 3, 7, 3, 3, 3, 7, 7, 3, 3, 3, 6, 4, 7, 3, 2, 7, 4, 4,\n",
       "        2, 7, 4, 7, 4, 6, 3, 3, 6, 7, 6, 7, 4, 3, 3, 3])"
      ]
     },
     "execution_count": 58,
     "metadata": {},
     "output_type": "execute_result"
    }
   ],
   "source": [
    "net(arr[0]).argmax(dim=1)"
   ]
  },
  {
   "cell_type": "code",
   "execution_count": 59,
   "id": "8265aafb-c7f6-4cb9-8ab6-26624c1b8a26",
   "metadata": {
    "tags": []
   },
   "outputs": [
    {
     "data": {
      "text/plain": [
       "tensor([9, 0, 0, 3, 0, 2, 7, 2, 5, 5, 0, 9, 5, 5, 7, 9, 1, 0, 6, 4, 3, 1, 4, 8,\n",
       "        4, 3, 0, 2, 4, 4, 5, 3, 6, 6, 0, 8, 5, 2, 1, 6, 6, 7, 9, 5, 9, 2, 7, 3,\n",
       "        0, 3, 3, 3, 7, 2, 2, 6, 6, 8, 3, 3, 5, 0, 5, 5])"
      ]
     },
     "execution_count": 59,
     "metadata": {},
     "output_type": "execute_result"
    }
   ],
   "source": [
    "arr[1]"
   ]
  },
  {
   "cell_type": "code",
   "execution_count": null,
   "id": "be0a258a-4d88-4350-b4eb-d53ab2a038e2",
   "metadata": {},
   "outputs": [],
   "source": []
  },
  {
   "cell_type": "code",
   "execution_count": null,
   "id": "7d6833f7-35b7-4268-8c59-a3434eacd96d",
   "metadata": {},
   "outputs": [],
   "source": []
  },
  {
   "cell_type": "code",
   "execution_count": null,
   "id": "f2433ca7-3b6e-49ed-a106-85446bf8f2cc",
   "metadata": {},
   "outputs": [],
   "source": []
  },
  {
   "cell_type": "code",
   "execution_count": null,
   "id": "3f9d7e9f-f64e-43a7-ac0f-20dadc8f9dd9",
   "metadata": {},
   "outputs": [],
   "source": []
  },
  {
   "cell_type": "code",
   "execution_count": null,
   "id": "8b290782-f60e-4661-b29c-26faa997f37d",
   "metadata": {},
   "outputs": [],
   "source": []
  },
  {
   "cell_type": "code",
   "execution_count": null,
   "id": "4c3f9b3e-2115-48e9-832e-5866dd904069",
   "metadata": {},
   "outputs": [],
   "source": []
  },
  {
   "cell_type": "code",
   "execution_count": null,
   "id": "efe8eb9b-f538-433c-aabe-5b29a7635db3",
   "metadata": {},
   "outputs": [],
   "source": []
  },
  {
   "cell_type": "markdown",
   "id": "708aaf8f-2b23-4137-ad56-44b697ad1296",
   "metadata": {},
   "source": [
    "https://pytorch.org/tutorials/beginner/basics/optimization_tutorial.html"
   ]
  },
  {
   "cell_type": "code",
   "execution_count": null,
   "id": "017bf452-ce90-4cb2-a966-a21f737e0b44",
   "metadata": {},
   "outputs": [],
   "source": []
  },
  {
   "cell_type": "code",
   "execution_count": null,
   "id": "fff3ead8-f19c-41d8-a8f1-af266d23668f",
   "metadata": {},
   "outputs": [],
   "source": []
  },
  {
   "cell_type": "code",
   "execution_count": 75,
   "id": "37e97c51-f78a-4728-b264-0e4631510c1b",
   "metadata": {
    "tags": []
   },
   "outputs": [],
   "source": []
  },
  {
   "cell_type": "code",
   "execution_count": 76,
   "id": "bbe59a36-08d0-46ca-ac26-74559a3d2fcb",
   "metadata": {
    "tags": []
   },
   "outputs": [
    {
     "ename": "RuntimeError",
     "evalue": "mat1 and mat2 must have the same dtype",
     "output_type": "error",
     "traceback": [
      "\u001b[0;31m---------------------------------------------------------------------------\u001b[0m",
      "\u001b[0;31mRuntimeError\u001b[0m                              Traceback (most recent call last)",
      "Cell \u001b[0;32mIn[76], line 1\u001b[0m\n\u001b[0;32m----> 1\u001b[0m \u001b[43mnet\u001b[49m\u001b[43m(\u001b[49m\u001b[43minput_image\u001b[49m\u001b[43m)\u001b[49m\n",
      "File \u001b[0;32m~/miniconda3/envs/mlflow-pydata/lib/python3.10/site-packages/torch/nn/modules/module.py:1501\u001b[0m, in \u001b[0;36mModule._call_impl\u001b[0;34m(self, *args, **kwargs)\u001b[0m\n\u001b[1;32m   1496\u001b[0m \u001b[38;5;66;03m# If we don't have any hooks, we want to skip the rest of the logic in\u001b[39;00m\n\u001b[1;32m   1497\u001b[0m \u001b[38;5;66;03m# this function, and just call forward.\u001b[39;00m\n\u001b[1;32m   1498\u001b[0m \u001b[38;5;28;01mif\u001b[39;00m \u001b[38;5;129;01mnot\u001b[39;00m (\u001b[38;5;28mself\u001b[39m\u001b[38;5;241m.\u001b[39m_backward_hooks \u001b[38;5;129;01mor\u001b[39;00m \u001b[38;5;28mself\u001b[39m\u001b[38;5;241m.\u001b[39m_backward_pre_hooks \u001b[38;5;129;01mor\u001b[39;00m \u001b[38;5;28mself\u001b[39m\u001b[38;5;241m.\u001b[39m_forward_hooks \u001b[38;5;129;01mor\u001b[39;00m \u001b[38;5;28mself\u001b[39m\u001b[38;5;241m.\u001b[39m_forward_pre_hooks\n\u001b[1;32m   1499\u001b[0m         \u001b[38;5;129;01mor\u001b[39;00m _global_backward_pre_hooks \u001b[38;5;129;01mor\u001b[39;00m _global_backward_hooks\n\u001b[1;32m   1500\u001b[0m         \u001b[38;5;129;01mor\u001b[39;00m _global_forward_hooks \u001b[38;5;129;01mor\u001b[39;00m _global_forward_pre_hooks):\n\u001b[0;32m-> 1501\u001b[0m     \u001b[38;5;28;01mreturn\u001b[39;00m \u001b[43mforward_call\u001b[49m\u001b[43m(\u001b[49m\u001b[38;5;241;43m*\u001b[39;49m\u001b[43margs\u001b[49m\u001b[43m,\u001b[49m\u001b[43m \u001b[49m\u001b[38;5;241;43m*\u001b[39;49m\u001b[38;5;241;43m*\u001b[39;49m\u001b[43mkwargs\u001b[49m\u001b[43m)\u001b[49m\n\u001b[1;32m   1502\u001b[0m \u001b[38;5;66;03m# Do not call functions when jit is used\u001b[39;00m\n\u001b[1;32m   1503\u001b[0m full_backward_hooks, non_full_backward_hooks \u001b[38;5;241m=\u001b[39m [], []\n",
      "File \u001b[0;32m~/miniconda3/envs/mlflow-pydata/lib/python3.10/site-packages/torch/nn/modules/container.py:217\u001b[0m, in \u001b[0;36mSequential.forward\u001b[0;34m(self, input)\u001b[0m\n\u001b[1;32m    215\u001b[0m \u001b[38;5;28;01mdef\u001b[39;00m \u001b[38;5;21mforward\u001b[39m(\u001b[38;5;28mself\u001b[39m, \u001b[38;5;28minput\u001b[39m):\n\u001b[1;32m    216\u001b[0m     \u001b[38;5;28;01mfor\u001b[39;00m module \u001b[38;5;129;01min\u001b[39;00m \u001b[38;5;28mself\u001b[39m:\n\u001b[0;32m--> 217\u001b[0m         \u001b[38;5;28minput\u001b[39m \u001b[38;5;241m=\u001b[39m \u001b[43mmodule\u001b[49m\u001b[43m(\u001b[49m\u001b[38;5;28;43minput\u001b[39;49m\u001b[43m)\u001b[49m\n\u001b[1;32m    218\u001b[0m     \u001b[38;5;28;01mreturn\u001b[39;00m \u001b[38;5;28minput\u001b[39m\n",
      "File \u001b[0;32m~/miniconda3/envs/mlflow-pydata/lib/python3.10/site-packages/torch/nn/modules/module.py:1501\u001b[0m, in \u001b[0;36mModule._call_impl\u001b[0;34m(self, *args, **kwargs)\u001b[0m\n\u001b[1;32m   1496\u001b[0m \u001b[38;5;66;03m# If we don't have any hooks, we want to skip the rest of the logic in\u001b[39;00m\n\u001b[1;32m   1497\u001b[0m \u001b[38;5;66;03m# this function, and just call forward.\u001b[39;00m\n\u001b[1;32m   1498\u001b[0m \u001b[38;5;28;01mif\u001b[39;00m \u001b[38;5;129;01mnot\u001b[39;00m (\u001b[38;5;28mself\u001b[39m\u001b[38;5;241m.\u001b[39m_backward_hooks \u001b[38;5;129;01mor\u001b[39;00m \u001b[38;5;28mself\u001b[39m\u001b[38;5;241m.\u001b[39m_backward_pre_hooks \u001b[38;5;129;01mor\u001b[39;00m \u001b[38;5;28mself\u001b[39m\u001b[38;5;241m.\u001b[39m_forward_hooks \u001b[38;5;129;01mor\u001b[39;00m \u001b[38;5;28mself\u001b[39m\u001b[38;5;241m.\u001b[39m_forward_pre_hooks\n\u001b[1;32m   1499\u001b[0m         \u001b[38;5;129;01mor\u001b[39;00m _global_backward_pre_hooks \u001b[38;5;129;01mor\u001b[39;00m _global_backward_hooks\n\u001b[1;32m   1500\u001b[0m         \u001b[38;5;129;01mor\u001b[39;00m _global_forward_hooks \u001b[38;5;129;01mor\u001b[39;00m _global_forward_pre_hooks):\n\u001b[0;32m-> 1501\u001b[0m     \u001b[38;5;28;01mreturn\u001b[39;00m \u001b[43mforward_call\u001b[49m\u001b[43m(\u001b[49m\u001b[38;5;241;43m*\u001b[39;49m\u001b[43margs\u001b[49m\u001b[43m,\u001b[49m\u001b[43m \u001b[49m\u001b[38;5;241;43m*\u001b[39;49m\u001b[38;5;241;43m*\u001b[39;49m\u001b[43mkwargs\u001b[49m\u001b[43m)\u001b[49m\n\u001b[1;32m   1502\u001b[0m \u001b[38;5;66;03m# Do not call functions when jit is used\u001b[39;00m\n\u001b[1;32m   1503\u001b[0m full_backward_hooks, non_full_backward_hooks \u001b[38;5;241m=\u001b[39m [], []\n",
      "File \u001b[0;32m~/miniconda3/envs/mlflow-pydata/lib/python3.10/site-packages/torch/nn/modules/linear.py:114\u001b[0m, in \u001b[0;36mLinear.forward\u001b[0;34m(self, input)\u001b[0m\n\u001b[1;32m    113\u001b[0m \u001b[38;5;28;01mdef\u001b[39;00m \u001b[38;5;21mforward\u001b[39m(\u001b[38;5;28mself\u001b[39m, \u001b[38;5;28minput\u001b[39m: Tensor) \u001b[38;5;241m-\u001b[39m\u001b[38;5;241m>\u001b[39m Tensor:\n\u001b[0;32m--> 114\u001b[0m     \u001b[38;5;28;01mreturn\u001b[39;00m \u001b[43mF\u001b[49m\u001b[38;5;241;43m.\u001b[39;49m\u001b[43mlinear\u001b[49m\u001b[43m(\u001b[49m\u001b[38;5;28;43minput\u001b[39;49m\u001b[43m,\u001b[49m\u001b[43m \u001b[49m\u001b[38;5;28;43mself\u001b[39;49m\u001b[38;5;241;43m.\u001b[39;49m\u001b[43mweight\u001b[49m\u001b[43m,\u001b[49m\u001b[43m \u001b[49m\u001b[38;5;28;43mself\u001b[39;49m\u001b[38;5;241;43m.\u001b[39;49m\u001b[43mbias\u001b[49m\u001b[43m)\u001b[49m\n",
      "\u001b[0;31mRuntimeError\u001b[0m: mat1 and mat2 must have the same dtype"
     ]
    }
   ],
   "source": [
    "net(input_image)"
   ]
  },
  {
   "cell_type": "code",
   "execution_count": null,
   "id": "7711b0a3-43fb-4c1c-ba73-41130a850bcf",
   "metadata": {},
   "outputs": [],
   "source": []
  },
  {
   "cell_type": "code",
   "execution_count": null,
   "id": "b4a70202-06ac-4cd1-b951-86fb20db7bda",
   "metadata": {},
   "outputs": [],
   "source": []
  },
  {
   "cell_type": "code",
   "execution_count": 13,
   "id": "c258d4cf-7ce9-45e1-a2cd-387d252d6490",
   "metadata": {
    "tags": []
   },
   "outputs": [],
   "source": [
    "class SimpleCNN(nn.Module):\n",
    "    def __init__(self):\n",
    "        super().__init__()\n",
    "        \n",
    "        for n in range(N_LAYERS):\n",
    "            pass"
   ]
  },
  {
   "cell_type": "code",
   "execution_count": 15,
   "id": "1955acf6-cb29-4e61-ad22-3f40cfbb8abe",
   "metadata": {
    "tags": []
   },
   "outputs": [],
   "source": [
    "net = nn.Sequential()"
   ]
  },
  {
   "cell_type": "code",
   "execution_count": 17,
   "id": "698a1096-a5be-4bd6-82cf-bf93ca8f4862",
   "metadata": {
    "tags": []
   },
   "outputs": [],
   "source": [
    "net.add_module('act1',nn.ReLU())\n",
    "net.add_module('linear1',nn.Linear(20,10))\n",
    "net.add_module('conv1',nn.Conv2d(32,64,(3,3)))"
   ]
  },
  {
   "cell_type": "code",
   "execution_count": 18,
   "id": "b77433b4-80f1-4091-9656-63ea553ae356",
   "metadata": {
    "tags": []
   },
   "outputs": [
    {
     "name": "stdout",
     "output_type": "stream",
     "text": [
      "Sequential(\n",
      "  (act1): ReLU()\n",
      "  (linear1): Linear(in_features=20, out_features=10, bias=True)\n",
      "  (conv1): Conv2d(32, 64, kernel_size=(3, 3), stride=(1, 1))\n",
      ")\n"
     ]
    }
   ],
   "source": [
    "print(net)"
   ]
  },
  {
   "cell_type": "code",
   "execution_count": null,
   "id": "7254280a-c547-4197-8c11-0c812b651d43",
   "metadata": {},
   "outputs": [],
   "source": []
  },
  {
   "cell_type": "code",
   "execution_count": null,
   "id": "ac281b55-fb6a-454e-bd87-77726858cfe5",
   "metadata": {},
   "outputs": [],
   "source": []
  },
  {
   "cell_type": "code",
   "execution_count": null,
   "id": "61641fbf-e58e-4ed1-9374-a97e80fdc9d0",
   "metadata": {},
   "outputs": [],
   "source": []
  },
  {
   "cell_type": "code",
   "execution_count": null,
   "id": "1c6d9ce4-fa10-46c9-a145-2fe6aa626aee",
   "metadata": {},
   "outputs": [],
   "source": []
  },
  {
   "cell_type": "code",
   "execution_count": 60,
   "id": "c4b5fc69-2d68-4eb2-b6d7-e7d723ce9002",
   "metadata": {},
   "outputs": [],
   "source": [
    "import pandas as pd\n",
    "import glob\n",
    "import cv2\n",
    "import matplotlib.pyplot as plt\n",
    "from PIL import Image\n",
    "\n",
    "from sklearn.datasets import load_digits\n",
    "from sklearn.model_selection import train_test_split"
   ]
  },
  {
   "cell_type": "code",
   "execution_count": 43,
   "id": "19faea49-3a29-47b7-9f53-474cbf195f93",
   "metadata": {},
   "outputs": [],
   "source": [
    "data = load_digits()\n",
    "img_test = data['images'][0]\n",
    "arr = cv2.imread('test.png', cv2.IMREAD_UNCHANGED)"
   ]
  },
  {
   "cell_type": "code",
   "execution_count": 72,
   "id": "e9b7b9fb-c338-48b0-9b07-a7ca6e098137",
   "metadata": {},
   "outputs": [],
   "source": [
    "import os"
   ]
  },
  {
   "cell_type": "code",
   "execution_count": 73,
   "id": "2080f5d5-35f4-4d62-b8f1-62e18a081666",
   "metadata": {},
   "outputs": [
    {
     "data": {
      "text/plain": [
       "'../data/raw/images/*.jpg'"
      ]
     },
     "execution_count": 73,
     "metadata": {},
     "output_type": "execute_result"
    }
   ],
   "source": [
    "os.path.join('../data/raw/images','*.jpg')"
   ]
  },
  {
   "cell_type": "code",
   "execution_count": 56,
   "id": "3fb63805-0856-40bf-81c8-ed8d7ffcca3d",
   "metadata": {},
   "outputs": [
    {
     "data": {
      "text/plain": [
       "1"
      ]
     },
     "execution_count": 56,
     "metadata": {},
     "output_type": "execute_result"
    }
   ],
   "source": [
    "int(\"../data/raw/images/img_727_1.jpg\".split('_')[-1].replace('.jpg', ''))"
   ]
  },
  {
   "cell_type": "code",
   "execution_count": 71,
   "id": "74c02d7c-dcbf-49ba-9237-40b6f9a55629",
   "metadata": {},
   "outputs": [],
   "source": [
    "df_train, df_test = (\n",
    "    pd.DataFrame(glob.glob('../data/raw/images/*.jpg'), columns=['file_name'])\n",
    "    .assign(target = lambda x: x.file_name.apply(lambda z: int(z.split('_')[-1].replace('.jpg', ''))))\n",
    "    .pipe((train_test_split),test_size=0.2, random_state=42)\n",
    ")"
   ]
  },
  {
   "cell_type": "code",
   "execution_count": null,
   "id": "a930e88b-a7b9-4246-ba3c-5a724e92d949",
   "metadata": {},
   "outputs": [],
   "source": []
  },
  {
   "cell_type": "code",
   "execution_count": null,
   "id": "ef1aad85-7819-4c53-9d80-7c073af983a2",
   "metadata": {},
   "outputs": [],
   "source": []
  },
  {
   "cell_type": "code",
   "execution_count": 27,
   "id": "4b9300ca-05f7-439b-8c49-22e546adf521",
   "metadata": {},
   "outputs": [
    {
     "data": {
      "text/plain": [
       "<matplotlib.image.AxesImage at 0x7f329f3329b0>"
      ]
     },
     "execution_count": 27,
     "metadata": {},
     "output_type": "execute_result"
    },
    {
     "data": {
      "image/png": "[encoded data removed]",
      "text/plain": [
       "<Figure size 640x480 with 1 Axes>"
      ]
     },
     "metadata": {},
     "output_type": "display_data"
    }
   ],
   "source": [
    "plt.imshow(img_test)"
   ]
  },
  {
   "cell_type": "code",
   "execution_count": 25,
   "id": "ffe93799-877d-4efe-8815-923cc561ce3c",
   "metadata": {},
   "outputs": [
    {
     "data": {
      "image/jpeg": "[encoded data removed]",
      "image/png": "[encoded data removed]",
      "text/plain": [
       "<PIL.Image.Image image mode=L size=8x8>"
      ]
     },
     "execution_count": 25,
     "metadata": {},
     "output_type": "execute_result"
    }
   ],
   "source": [
    "Image.fromarray(img_test, mode='L')"
   ]
  },
  {
   "cell_type": "code",
   "execution_count": 28,
   "id": "b6edf7f6-83b6-4467-a73b-34486591a0d3",
   "metadata": {},
   "outputs": [],
   "source": [
    "arr = cv2.imread('../data/raw/images/img_0_0.jpg')"
   ]
  },
  {
   "cell_type": "code",
   "execution_count": 30,
   "id": "05e406fd-2272-4960-a682-8ce98643ba6f",
   "metadata": {},
   "outputs": [
    {
     "data": {
      "text/plain": [
       "(8, 8, 3)"
      ]
     },
     "execution_count": 30,
     "metadata": {},
     "output_type": "execute_result"
    }
   ],
   "source": [
    "arr.shape"
   ]
  },
  {
   "cell_type": "code",
   "execution_count": 13,
   "id": "615e88a7-a7ea-4af2-abf6-52a11bab2537",
   "metadata": {},
   "outputs": [
    {
     "data": {
      "text/plain": [
       "<matplotlib.image.AxesImage at 0x7f32b40d3a60>"
      ]
     },
     "execution_count": 13,
     "metadata": {},
     "output_type": "execute_result"
    },
    {
     "data": {
      "image/png": "[encoded data removed]",
      "text/plain": [
       "<Figure size 640x480 with 1 Axes>"
      ]
     },
     "metadata": {},
     "output_type": "display_data"
    }
   ],
   "source": [
    "plt.imshow(arr, cmap='viridis')"
   ]
  },
  {
   "cell_type": "code",
   "execution_count": null,
   "id": "84ba3cd9-26d4-489e-83f4-9309057e0ab7",
   "metadata": {},
   "outputs": [],
   "source": []
  }
 ],
 "metadata": {
  "kernelspec": {
   "display_name": "Python 3 (ipykernel)",
   "language": "python",
   "name": "python3"
  },
  "language_info": {
   "codemirror_mode": {
    "name": "ipython",
    "version": 3
   },
   "file_extension": ".py",
   "mimetype": "text/x-python",
   "name": "python",
   "nbconvert_exporter": "python",
   "pygments_lexer": "ipython3",
   "version": "3.10.12"
  }
 },
 "nbformat": 4,
 "nbformat_minor": 5
}
