{
 "cells": [
  {
   "cell_type": "code",
   "execution_count": 3,
   "id": "0d806613-976f-47ae-8e7a-e5df958a5f26",
   "metadata": {
    "tags": []
   },
   "outputs": [
    {
     "name": "stdout",
     "output_type": "stream",
     "text": [
      "Using cuda device\n"
     ]
    }
   ],
   "source": [
    "import torch\n",
    "from torch import nn\n",
    "from torch.utils.data import DataLoader\n",
    "from torchvision import datasets\n",
    "from torchvision import transforms\n",
    "from torchvision.io import read_image\n",
    "from torch.utils.data import Dataset\n",
    "import cv2\n",
    "import numpy as np\n",
    "import pandas as pd\n",
    "import shutil\n",
    "\n",
    "device = (\n",
    "    \"cuda\"\n",
    "    if torch.cuda.is_available()\n",
    "    else \"mps\"\n",
    "    if torch.backends.mps.is_available()\n",
    "    else \"cpu\"\n",
    ")\n",
    "\n",
    "print(f\"Using {device} device\")"
   ]
  },
  {
   "cell_type": "code",
   "execution_count": null,
   "id": "101bbb60-2047-4ecf-bb01-1f6bb74c93ec",
   "metadata": {},
   "outputs": [],
   "source": [
    "class MyImageDataset(Dataset):\n",
    "    def __init__(self, annotations_file, img_dir, transform=None, target_transform=None):\n",
    "        self.img_labels = pd.read_csv(annotations_file)\n",
    "        self.img_dir = img_dir\n",
    "        self.transform = transform\n",
    "        self.target_transform = target_transform\n",
    "    \n",
    "    def __len__(self):\n",
    "        return len(self.img_labels)\n",
    "    \n",
    "        https://pytorch.org/tutorials/beginner/basics/data_tutorial.html"
   ]
  },
  {
   "cell_type": "code",
   "execution_count": null,
   "id": "b32dd762-8ecd-4d01-8860-ffcbaa159f7d",
   "metadata": {},
   "outputs": [],
   "source": []
  },
  {
   "cell_type": "code",
   "execution_count": null,
   "id": "cfaaba9a-ebd0-4044-9be1-726ee1f88158",
   "metadata": {},
   "outputs": [],
   "source": []
  },
  {
   "cell_type": "code",
   "execution_count": null,
   "id": "659c02aa-18ae-422c-9d79-e2527331d606",
   "metadata": {},
   "outputs": [],
   "source": []
  },
  {
   "cell_type": "code",
   "execution_count": 6,
   "id": "bc122b9b",
   "metadata": {},
   "outputs": [],
   "source": [
    "train = pd.read_csv('../data/indexes/index_train.csv')"
   ]
  },
  {
   "cell_type": "code",
   "execution_count": null,
   "id": "96bfd3f2",
   "metadata": {},
   "outputs": [],
   "source": []
  },
  {
   "cell_type": "code",
   "execution_count": 12,
   "id": "451c8275",
   "metadata": {},
   "outputs": [
    {
     "ename": "FileNotFoundError",
     "evalue": "[Errno 2] No such file or directory: '../data/processed/train/img_0_0.jpg'",
     "output_type": "error",
     "traceback": [
      "\u001b[0;31m---------------------------------------------------------------------------\u001b[0m",
      "\u001b[0;31mFileNotFoundError\u001b[0m                         Traceback (most recent call last)",
      "Cell \u001b[0;32mIn[12], line 1\u001b[0m\n\u001b[0;32m----> 1\u001b[0m shutil\u001b[39m.\u001b[39;49mcopy(\u001b[39m'\u001b[39;49m\u001b[39m../data/raw/images/img_0_0.jpg\u001b[39;49m\u001b[39m'\u001b[39;49m, \u001b[39m'\u001b[39;49m\u001b[39m../data/processed/train/img_0_0.jpg\u001b[39;49m\u001b[39m'\u001b[39;49m)\n",
      "File \u001b[0;32m~/miniconda3/envs/mlflow-pydata/lib/python3.10/shutil.py:417\u001b[0m, in \u001b[0;36mcopy\u001b[0;34m(src, dst, follow_symlinks)\u001b[0m\n\u001b[1;32m    415\u001b[0m \u001b[39mif\u001b[39;00m os\u001b[39m.\u001b[39mpath\u001b[39m.\u001b[39misdir(dst):\n\u001b[1;32m    416\u001b[0m     dst \u001b[39m=\u001b[39m os\u001b[39m.\u001b[39mpath\u001b[39m.\u001b[39mjoin(dst, os\u001b[39m.\u001b[39mpath\u001b[39m.\u001b[39mbasename(src))\n\u001b[0;32m--> 417\u001b[0m copyfile(src, dst, follow_symlinks\u001b[39m=\u001b[39;49mfollow_symlinks)\n\u001b[1;32m    418\u001b[0m copymode(src, dst, follow_symlinks\u001b[39m=\u001b[39mfollow_symlinks)\n\u001b[1;32m    419\u001b[0m \u001b[39mreturn\u001b[39;00m dst\n",
      "File \u001b[0;32m~/miniconda3/envs/mlflow-pydata/lib/python3.10/shutil.py:256\u001b[0m, in \u001b[0;36mcopyfile\u001b[0;34m(src, dst, follow_symlinks)\u001b[0m\n\u001b[1;32m    254\u001b[0m \u001b[39mwith\u001b[39;00m \u001b[39mopen\u001b[39m(src, \u001b[39m'\u001b[39m\u001b[39mrb\u001b[39m\u001b[39m'\u001b[39m) \u001b[39mas\u001b[39;00m fsrc:\n\u001b[1;32m    255\u001b[0m     \u001b[39mtry\u001b[39;00m:\n\u001b[0;32m--> 256\u001b[0m         \u001b[39mwith\u001b[39;00m \u001b[39mopen\u001b[39;49m(dst, \u001b[39m'\u001b[39;49m\u001b[39mwb\u001b[39;49m\u001b[39m'\u001b[39;49m) \u001b[39mas\u001b[39;00m fdst:\n\u001b[1;32m    257\u001b[0m             \u001b[39m# macOS\u001b[39;00m\n\u001b[1;32m    258\u001b[0m             \u001b[39mif\u001b[39;00m _HAS_FCOPYFILE:\n\u001b[1;32m    259\u001b[0m                 \u001b[39mtry\u001b[39;00m:\n",
      "\u001b[0;31mFileNotFoundError\u001b[0m: [Errno 2] No such file or directory: '../data/processed/train/img_0_0.jpg'"
     ]
    }
   ],
   "source": [
    "shutil.copy('../data/raw/images/img_0_0.jpg', '../data/processed/train/img_0_0.jpg')"
   ]
  },
  {
   "cell_type": "code",
   "execution_count": null,
   "id": "a2facb55",
   "metadata": {},
   "outputs": [],
   "source": [
    "os."
   ]
  },
  {
   "cell_type": "markdown",
   "id": "b8167f57",
   "metadata": {},
   "source": []
  },
  {
   "cell_type": "code",
   "execution_count": null,
   "id": "31783d07",
   "metadata": {},
   "outputs": [],
   "source": []
  },
  {
   "cell_type": "code",
   "execution_count": null,
   "id": "84befbd6",
   "metadata": {},
   "outputs": [],
   "source": []
  },
  {
   "cell_type": "code",
   "execution_count": null,
   "id": "9c62da2f",
   "metadata": {},
   "outputs": [],
   "source": []
  },
  {
   "cell_type": "code",
   "execution_count": 9,
   "id": "c432c6ca",
   "metadata": {},
   "outputs": [
    {
     "name": "stdout",
     "output_type": "stream",
     "text": [
      "../../data/raw/images/img_113_1.jpg\n",
      "../../data/raw/images/img_456_2.jpg\n",
      "../../data/raw/images/img_72_2.jpg\n",
      "../../data/raw/images/img_402_2.jpg\n",
      "../../data/raw/images/img_773_0.jpg\n",
      "../../data/raw/images/img_182_4.jpg\n",
      "../../data/raw/images/img_29_3.jpg\n",
      "../../data/raw/images/img_165_0.jpg\n",
      "../../data/raw/images/img_580_1.jpg\n",
      "../../data/raw/images/img_238_2.jpg\n",
      "../../data/raw/images/img_881_4.jpg\n",
      "../../data/raw/images/img_628_1.jpg\n",
      "../../data/raw/images/img_371_3.jpg\n",
      "../../data/raw/images/img_401_1.jpg\n",
      "../../data/raw/images/img_148_3.jpg\n",
      "../../data/raw/images/img_644_0.jpg\n",
      "../../data/raw/images/img_504_4.jpg\n",
      "../../data/raw/images/img_485_4.jpg\n",
      "../../data/raw/images/img_233_2.jpg\n",
      "../../data/raw/images/img_750_1.jpg\n",
      "../../data/raw/images/img_429_0.jpg\n",
      "../../data/raw/images/img_228_4.jpg\n",
      "../../data/raw/images/img_652_3.jpg\n",
      "../../data/raw/images/img_591_2.jpg\n",
      "../../data/raw/images/img_380_3.jpg\n",
      "../../data/raw/images/img_810_0.jpg\n",
      "../../data/raw/images/img_777_3.jpg\n",
      "../../data/raw/images/img_845_4.jpg\n",
      "../../data/raw/images/img_212_4.jpg\n",
      "../../data/raw/images/img_54_0.jpg\n",
      "../../data/raw/images/img_69_4.jpg\n",
      "../../data/raw/images/img_507_1.jpg\n",
      "../../data/raw/images/img_412_0.jpg\n",
      "../../data/raw/images/img_203_3.jpg\n",
      "../../data/raw/images/img_65_0.jpg\n",
      "../../data/raw/images/img_274_4.jpg\n",
      "../../data/raw/images/img_732_2.jpg\n",
      "../../data/raw/images/img_242_1.jpg\n",
      "../../data/raw/images/img_776_2.jpg\n",
      "../../data/raw/images/img_314_0.jpg\n",
      "../../data/raw/images/img_849_3.jpg\n",
      "../../data/raw/images/img_287_1.jpg\n",
      "../../data/raw/images/img_80_0.jpg\n",
      "../../data/raw/images/img_889_4.jpg\n",
      "../../data/raw/images/img_61_2.jpg\n",
      "../../data/raw/images/img_608_3.jpg\n",
      "../../data/raw/images/img_27_1.jpg\n",
      "../../data/raw/images/img_130_1.jpg\n",
      "../../data/raw/images/img_282_0.jpg\n",
      "../../data/raw/images/img_736_1.jpg\n",
      "../../data/raw/images/img_172_2.jpg\n",
      "../../data/raw/images/img_641_4.jpg\n",
      "../../data/raw/images/img_639_2.jpg\n",
      "../../data/raw/images/img_207_2.jpg\n",
      "../../data/raw/images/img_450_2.jpg\n",
      "../../data/raw/images/img_11_1.jpg\n",
      "../../data/raw/images/img_8_3.jpg\n",
      "../../data/raw/images/img_526_0.jpg\n",
      "../../data/raw/images/img_454_0.jpg\n",
      "../../data/raw/images/img_708_0.jpg\n",
      "../../data/raw/images/img_319_2.jpg\n",
      "../../data/raw/images/img_68_3.jpg\n",
      "../../data/raw/images/img_741_3.jpg\n",
      "../../data/raw/images/img_843_2.jpg\n",
      "../../data/raw/images/img_250_3.jpg\n",
      "../../data/raw/images/img_772_4.jpg\n",
      "../../data/raw/images/img_790_0.jpg\n",
      "../../data/raw/images/img_886_4.jpg\n",
      "../../data/raw/images/img_59_2.jpg\n",
      "../../data/raw/images/img_155_0.jpg\n",
      "../../data/raw/images/img_426_0.jpg\n",
      "../../data/raw/images/img_513_4.jpg\n",
      "../../data/raw/images/img_756_1.jpg\n",
      "../../data/raw/images/img_358_4.jpg\n",
      "../../data/raw/images/img_346_0.jpg\n",
      "../../data/raw/images/img_376_3.jpg\n",
      "../../data/raw/images/img_753_1.jpg\n",
      "../../data/raw/images/img_271_1.jpg\n",
      "../../data/raw/images/img_855_3.jpg\n",
      "../../data/raw/images/img_21_0.jpg\n",
      "../../data/raw/images/img_874_2.jpg\n",
      "../../data/raw/images/img_637_4.jpg\n",
      "../../data/raw/images/img_717_3.jpg\n",
      "../../data/raw/images/img_589_0.jpg\n",
      "../../data/raw/images/img_655_1.jpg\n",
      "../../data/raw/images/img_273_3.jpg\n",
      "../../data/raw/images/img_745_0.jpg\n",
      "../../data/raw/images/img_657_3.jpg\n",
      "../../data/raw/images/img_815_2.jpg\n",
      "../../data/raw/images/img_409_3.jpg\n",
      "../../data/raw/images/img_784_0.jpg\n",
      "../../data/raw/images/img_751_3.jpg\n",
      "../../data/raw/images/img_101_0.jpg\n",
      "../../data/raw/images/img_236_1.jpg\n",
      "../../data/raw/images/img_494_2.jpg\n",
      "../../data/raw/images/img_257_4.jpg\n",
      "../../data/raw/images/img_315_3.jpg\n",
      "../../data/raw/images/img_184_3.jpg\n",
      "../../data/raw/images/img_684_0.jpg\n",
      "../../data/raw/images/img_602_2.jpg\n",
      "../../data/raw/images/img_111_1.jpg\n",
      "../../data/raw/images/img_32_3.jpg\n",
      "../../data/raw/images/img_704_2.jpg\n",
      "../../data/raw/images/img_879_2.jpg\n",
      "../../data/raw/images/img_447_4.jpg\n",
      "../../data/raw/images/img_335_0.jpg\n",
      "../../data/raw/images/img_139_0.jpg\n",
      "../../data/raw/images/img_651_2.jpg\n",
      "../../data/raw/images/img_726_4.jpg\n",
      "../../data/raw/images/img_866_3.jpg\n",
      "../../data/raw/images/img_363_2.jpg\n",
      "../../data/raw/images/img_299_0.jpg\n",
      "../../data/raw/images/img_254_2.jpg\n",
      "../../data/raw/images/img_269_4.jpg\n",
      "../../data/raw/images/img_382_4.jpg\n",
      "../../data/raw/images/img_766_4.jpg\n",
      "../../data/raw/images/img_890_0.jpg\n",
      "../../data/raw/images/img_692_3.jpg\n",
      "../../data/raw/images/img_653_4.jpg\n",
      "../../data/raw/images/img_498_1.jpg\n",
      "../../data/raw/images/img_897_2.jpg\n",
      "../../data/raw/images/img_78_3.jpg\n",
      "../../data/raw/images/img_755_3.jpg\n",
      "../../data/raw/images/img_272_2.jpg\n",
      "../../data/raw/images/img_893_4.jpg\n",
      "../../data/raw/images/img_640_2.jpg\n",
      "../../data/raw/images/img_501_4.jpg\n",
      "../../data/raw/images/img_859_2.jpg\n",
      "../../data/raw/images/img_463_4.jpg\n",
      "../../data/raw/images/img_711_2.jpg\n",
      "../../data/raw/images/img_192_4.jpg\n",
      "../../data/raw/images/img_458_4.jpg\n",
      "../../data/raw/images/img_525_4.jpg\n",
      "../../data/raw/images/img_196_1.jpg\n",
      "../../data/raw/images/img_338_3.jpg\n",
      "../../data/raw/images/img_119_3.jpg\n",
      "../../data/raw/images/img_834_4.jpg\n",
      "../../data/raw/images/img_477_0.jpg\n",
      "../../data/raw/images/img_174_4.jpg\n",
      "../../data/raw/images/img_208_3.jpg\n",
      "../../data/raw/images/img_56_1.jpg\n",
      "../../data/raw/images/img_553_0.jpg\n",
      "../../data/raw/images/img_555_1.jpg\n",
      "../../data/raw/images/img_674_3.jpg\n",
      "../../data/raw/images/img_216_0.jpg\n",
      "../../data/raw/images/img_496_4.jpg\n",
      "../../data/raw/images/img_839_3.jpg\n",
      "../../data/raw/images/img_531_0.jpg\n",
      "../../data/raw/images/img_818_3.jpg\n",
      "../../data/raw/images/img_51_3.jpg\n",
      "../../data/raw/images/img_249_0.jpg\n",
      "../../data/raw/images/img_325_0.jpg\n",
      "../../data/raw/images/img_44_1.jpg\n",
      "../../data/raw/images/img_569_3.jpg\n",
      "../../data/raw/images/img_623_1.jpg\n",
      "../../data/raw/images/img_100_1.jpg\n",
      "../../data/raw/images/img_505_0.jpg\n",
      "../../data/raw/images/img_567_4.jpg\n",
      "../../data/raw/images/img_367_3.jpg\n",
      "../../data/raw/images/img_146_4.jpg\n",
      "../../data/raw/images/img_804_3.jpg\n",
      "../../data/raw/images/img_724_0.jpg\n",
      "../../data/raw/images/img_832_2.jpg\n",
      "../../data/raw/images/img_734_2.jpg\n",
      "../../data/raw/images/img_549_1.jpg\n",
      "../../data/raw/images/img_224_3.jpg\n",
      "../../data/raw/images/img_347_0.jpg\n",
      "../../data/raw/images/img_390_0.jpg\n",
      "../../data/raw/images/img_241_3.jpg\n",
      "../../data/raw/images/img_759_4.jpg\n",
      "../../data/raw/images/img_577_4.jpg\n",
      "../../data/raw/images/img_789_0.jpg\n",
      "../../data/raw/images/img_847_1.jpg\n",
      "../../data/raw/images/img_799_2.jpg\n",
      "../../data/raw/images/img_544_3.jpg\n",
      "../../data/raw/images/img_297_2.jpg\n",
      "../../data/raw/images/img_721_2.jpg\n",
      "../../data/raw/images/img_140_1.jpg\n",
      "../../data/raw/images/img_744_1.jpg\n",
      "../../data/raw/images/img_105_0.jpg\n",
      "../../data/raw/images/img_169_0.jpg\n",
      "../../data/raw/images/img_307_1.jpg\n",
      "../../data/raw/images/img_822_4.jpg\n",
      "../../data/raw/images/img_436_3.jpg\n",
      "../../data/raw/images/img_76_1.jpg\n",
      "../../data/raw/images/img_343_1.jpg\n",
      "../../data/raw/images/img_894_4.jpg\n",
      "../../data/raw/images/img_361_0.jpg\n",
      "../../data/raw/images/img_853_4.jpg\n",
      "../../data/raw/images/img_378_4.jpg\n",
      "../../data/raw/images/img_206_1.jpg\n",
      "../../data/raw/images/img_35_1.jpg\n",
      "../../data/raw/images/img_386_2.jpg\n",
      "../../data/raw/images/img_552_2.jpg\n",
      "../../data/raw/images/img_31_3.jpg\n",
      "../../data/raw/images/img_887_3.jpg\n",
      "../../data/raw/images/img_583_4.jpg\n",
      "../../data/raw/images/img_697_4.jpg\n",
      "../../data/raw/images/img_862_0.jpg\n",
      "../../data/raw/images/img_820_3.jpg\n",
      "../../data/raw/images/img_642_4.jpg\n",
      "../../data/raw/images/img_660_0.jpg\n",
      "../../data/raw/images/img_857_0.jpg\n",
      "../../data/raw/images/img_563_1.jpg\n",
      "../../data/raw/images/img_482_3.jpg\n",
      "../../data/raw/images/img_64_0.jpg\n",
      "../../data/raw/images/img_831_2.jpg\n",
      "../../data/raw/images/img_873_2.jpg\n",
      "../../data/raw/images/img_870_4.jpg\n",
      "../../data/raw/images/img_616_2.jpg\n",
      "../../data/raw/images/img_211_0.jpg\n",
      "../../data/raw/images/img_585_1.jpg\n",
      "../../data/raw/images/img_170_1.jpg\n",
      "../../data/raw/images/img_154_2.jpg\n",
      "../../data/raw/images/img_316_1.jpg\n",
      "../../data/raw/images/img_702_4.jpg\n",
      "../../data/raw/images/img_564_4.jpg\n",
      "../../data/raw/images/img_659_0.jpg\n",
      "../../data/raw/images/img_85_1.jpg\n",
      "../../data/raw/images/img_621_3.jpg\n",
      "../../data/raw/images/img_728_3.jpg\n",
      "../../data/raw/images/img_41_1.jpg\n",
      "../../data/raw/images/img_746_2.jpg\n",
      "../../data/raw/images/img_813_1.jpg\n",
      "../../data/raw/images/img_624_4.jpg\n",
      "../../data/raw/images/img_609_3.jpg\n",
      "../../data/raw/images/img_527_1.jpg\n",
      "../../data/raw/images/img_189_2.jpg\n",
      "../../data/raw/images/img_467_3.jpg\n",
      "../../data/raw/images/img_387_4.jpg\n",
      "../../data/raw/images/img_149_1.jpg\n",
      "../../data/raw/images/img_899_4.jpg\n",
      "../../data/raw/images/img_87_0.jpg\n",
      "../../data/raw/images/img_748_0.jpg\n",
      "../../data/raw/images/img_566_1.jpg\n",
      "../../data/raw/images/img_20_1.jpg\n",
      "../../data/raw/images/img_502_3.jpg\n",
      "../../data/raw/images/img_317_4.jpg\n",
      "../../data/raw/images/img_164_1.jpg\n",
      "../../data/raw/images/img_629_4.jpg\n",
      "../../data/raw/images/img_512_2.jpg\n",
      "../../data/raw/images/img_521_0.jpg\n",
      "../../data/raw/images/img_590_1.jpg\n",
      "../../data/raw/images/img_582_3.jpg\n",
      "../../data/raw/images/img_491_0.jpg\n",
      "../../data/raw/images/img_444_0.jpg\n",
      "../../data/raw/images/img_722_3.jpg\n",
      "../../data/raw/images/img_17_4.jpg\n",
      "../../data/raw/images/img_420_3.jpg\n",
      "../../data/raw/images/img_538_0.jpg\n",
      "../../data/raw/images/img_517_1.jpg\n",
      "../../data/raw/images/img_761_1.jpg\n",
      "../../data/raw/images/img_407_4.jpg\n",
      "../../data/raw/images/img_656_2.jpg\n",
      "../../data/raw/images/img_210_0.jpg\n",
      "../../data/raw/images/img_791_4.jpg\n",
      "../../data/raw/images/img_400_0.jpg\n",
      "../../data/raw/images/img_633_0.jpg\n",
      "../../data/raw/images/img_720_1.jpg\n",
      "../../data/raw/images/img_699_3.jpg\n",
      "../../data/raw/images/img_5_0.jpg\n",
      "../../data/raw/images/img_649_0.jpg\n",
      "../../data/raw/images/img_385_2.jpg\n",
      "../../data/raw/images/img_852_0.jpg\n",
      "../../data/raw/images/img_16_0.jpg\n",
      "../../data/raw/images/img_57_4.jpg\n",
      "../../data/raw/images/img_340_0.jpg\n",
      "../../data/raw/images/img_432_3.jpg\n",
      "../../data/raw/images/img_3_3.jpg\n",
      "../../data/raw/images/img_681_2.jpg\n",
      "../../data/raw/images/img_829_4.jpg\n",
      "../../data/raw/images/img_422_3.jpg\n",
      "../../data/raw/images/img_807_4.jpg\n",
      "../../data/raw/images/img_434_1.jpg\n",
      "../../data/raw/images/img_685_1.jpg\n",
      "../../data/raw/images/img_321_2.jpg\n",
      "../../data/raw/images/img_30_3.jpg\n",
      "../../data/raw/images/img_550_0.jpg\n",
      "../../data/raw/images/img_689_4.jpg\n",
      "../../data/raw/images/img_281_0.jpg\n",
      "../../data/raw/images/img_827_3.jpg\n",
      "../../data/raw/images/img_695_3.jpg\n",
      "../../data/raw/images/img_727_1.jpg\n",
      "../../data/raw/images/img_77_2.jpg\n",
      "../../data/raw/images/img_707_4.jpg\n",
      "../../data/raw/images/img_871_1.jpg\n",
      "../../data/raw/images/img_607_2.jpg\n",
      "../../data/raw/images/img_291_3.jpg\n",
      "../../data/raw/images/img_658_4.jpg\n",
      "../../data/raw/images/img_331_1.jpg\n",
      "../../data/raw/images/img_532_0.jpg\n",
      "../../data/raw/images/img_114_4.jpg\n",
      "../../data/raw/images/img_680_0.jpg\n",
      "../../data/raw/images/img_320_2.jpg\n",
      "../../data/raw/images/img_46_3.jpg\n",
      "../../data/raw/images/img_258_4.jpg\n",
      "../../data/raw/images/img_259_0.jpg\n",
      "../../data/raw/images/img_150_0.jpg\n",
      "../../data/raw/images/img_188_2.jpg\n",
      "../../data/raw/images/img_185_1.jpg\n",
      "../../data/raw/images/img_665_0.jpg\n",
      "../../data/raw/images/img_801_1.jpg\n",
      "../../data/raw/images/img_840_4.jpg\n",
      "../../data/raw/images/img_204_4.jpg\n",
      "../../data/raw/images/img_445_3.jpg\n",
      "../../data/raw/images/img_37_2.jpg\n",
      "../../data/raw/images/img_26_0.jpg\n",
      "../../data/raw/images/img_6_1.jpg\n",
      "../../data/raw/images/img_841_0.jpg\n",
      "../../data/raw/images/img_424_4.jpg\n",
      "../../data/raw/images/img_484_4.jpg\n",
      "../../data/raw/images/img_221_0.jpg\n",
      "../../data/raw/images/img_418_2.jpg\n",
      "../../data/raw/images/img_96_3.jpg\n",
      "../../data/raw/images/img_793_3.jpg\n",
      "../../data/raw/images/img_120_1.jpg\n",
      "../../data/raw/images/img_328_3.jpg\n",
      "../../data/raw/images/img_52_1.jpg\n",
      "../../data/raw/images/img_812_0.jpg\n",
      "../../data/raw/images/img_24_2.jpg\n",
      "../../data/raw/images/img_304_1.jpg\n",
      "../../data/raw/images/img_778_4.jpg\n",
      "../../data/raw/images/img_311_3.jpg\n",
      "../../data/raw/images/img_486_1.jpg\n",
      "../../data/raw/images/img_850_4.jpg\n",
      "../../data/raw/images/img_134_0.jpg\n",
      "../../data/raw/images/img_70_0.jpg\n",
      "../../data/raw/images/img_71_1.jpg\n",
      "../../data/raw/images/img_506_3.jpg\n",
      "../../data/raw/images/img_374_1.jpg\n",
      "../../data/raw/images/img_181_1.jpg\n",
      "../../data/raw/images/img_53_4.jpg\n",
      "../../data/raw/images/img_816_1.jpg\n",
      "../../data/raw/images/img_152_2.jpg\n",
      "../../data/raw/images/img_301_1.jpg\n",
      "../../data/raw/images/img_267_2.jpg\n",
      "../../data/raw/images/img_802_2.jpg\n",
      "../../data/raw/images/img_618_0.jpg\n",
      "../../data/raw/images/img_294_4.jpg\n",
      "../../data/raw/images/img_63_4.jpg\n",
      "../../data/raw/images/img_610_3.jpg\n",
      "../../data/raw/images/img_581_2.jpg\n",
      "../../data/raw/images/img_785_1.jpg\n",
      "../../data/raw/images/img_493_3.jpg\n",
      "../../data/raw/images/img_145_0.jpg\n",
      "../../data/raw/images/img_265_0.jpg\n",
      "../../data/raw/images/img_136_2.jpg\n",
      "../../data/raw/images/img_636_4.jpg\n",
      "../../data/raw/images/img_760_3.jpg\n",
      "../../data/raw/images/img_82_4.jpg\n",
      "../../data/raw/images/img_67_2.jpg\n",
      "../../data/raw/images/img_151_0.jpg\n",
      "../../data/raw/images/img_587_3.jpg\n",
      "../../data/raw/images/img_372_1.jpg\n",
      "../../data/raw/images/img_446_1.jpg\n",
      "../../data/raw/images/img_404_4.jpg\n",
      "../../data/raw/images/img_243_3.jpg\n",
      "../../data/raw/images/img_781_2.jpg\n",
      "../../data/raw/images/img_369_1.jpg\n",
      "../../data/raw/images/img_782_3.jpg\n",
      "../../data/raw/images/img_469_0.jpg\n",
      "../../data/raw/images/img_806_3.jpg\n",
      "../../data/raw/images/img_442_1.jpg\n",
      "../../data/raw/images/img_73_3.jpg\n",
      "../../data/raw/images/img_123_2.jpg\n",
      "../../data/raw/images/img_414_2.jpg\n",
      "../../data/raw/images/img_543_3.jpg\n",
      "../../data/raw/images/img_719_0.jpg\n",
      "../../data/raw/images/img_858_0.jpg\n",
      "../../data/raw/images/img_780_1.jpg\n",
      "../../data/raw/images/img_529_3.jpg\n",
      "../../data/raw/images/img_752_2.jpg\n",
      "../../data/raw/images/img_876_0.jpg\n",
      "../../data/raw/images/img_869_4.jpg\n",
      "../../data/raw/images/img_408_1.jpg\n",
      "../../data/raw/images/img_237_3.jpg\n",
      "../../data/raw/images/img_562_3.jpg\n",
      "../../data/raw/images/img_157_2.jpg\n",
      "../../data/raw/images/img_729_1.jpg\n",
      "../../data/raw/images/img_453_4.jpg\n",
      "../../data/raw/images/img_588_4.jpg\n",
      "../../data/raw/images/img_334_4.jpg\n",
      "../../data/raw/images/img_118_0.jpg\n",
      "../../data/raw/images/img_763_0.jpg\n",
      "../../data/raw/images/img_460_1.jpg\n",
      "../../data/raw/images/img_284_2.jpg\n",
      "../../data/raw/images/img_33_4.jpg\n",
      "../../data/raw/images/img_121_4.jpg\n",
      "../../data/raw/images/img_112_3.jpg\n",
      "../../data/raw/images/img_586_2.jpg\n",
      "../../data/raw/images/img_765_1.jpg\n",
      "../../data/raw/images/img_246_3.jpg\n",
      "../../data/raw/images/img_89_2.jpg\n",
      "../../data/raw/images/img_161_3.jpg\n",
      "../../data/raw/images/img_762_4.jpg\n",
      "../../data/raw/images/img_351_0.jpg\n",
      "../../data/raw/images/img_488_2.jpg\n",
      "../../data/raw/images/img_286_0.jpg\n",
      "../../data/raw/images/img_147_1.jpg\n",
      "../../data/raw/images/img_690_3.jpg\n",
      "../../data/raw/images/img_22_0.jpg\n",
      "../../data/raw/images/img_362_2.jpg\n",
      "../../data/raw/images/img_754_4.jpg\n",
      "../../data/raw/images/img_798_2.jpg\n",
      "../../data/raw/images/img_298_2.jpg\n",
      "../../data/raw/images/img_355_3.jpg\n",
      "../../data/raw/images/img_533_4.jpg\n",
      "../../data/raw/images/img_389_0.jpg\n",
      "../../data/raw/images/img_632_4.jpg\n",
      "../../data/raw/images/img_614_1.jpg\n",
      "../../data/raw/images/img_654_0.jpg\n",
      "../../data/raw/images/img_198_3.jpg\n",
      "../../data/raw/images/img_648_4.jpg\n",
      "../../data/raw/images/img_757_3.jpg\n",
      "../../data/raw/images/img_824_1.jpg\n",
      "../../data/raw/images/img_694_4.jpg\n",
      "../../data/raw/images/img_153_2.jpg\n",
      "../../data/raw/images/img_819_1.jpg\n",
      "../../data/raw/images/img_144_0.jpg\n",
      "../../data/raw/images/img_127_4.jpg\n",
      "../../data/raw/images/img_303_2.jpg\n",
      "../../data/raw/images/img_882_3.jpg\n",
      "../../data/raw/images/img_202_2.jpg\n",
      "../../data/raw/images/img_598_3.jpg\n",
      "../../data/raw/images/img_47_1.jpg\n",
      "../../data/raw/images/img_438_3.jpg\n",
      "../../data/raw/images/img_612_4.jpg\n",
      "../../data/raw/images/img_226_3.jpg\n",
      "../../data/raw/images/img_535_3.jpg\n",
      "../../data/raw/images/img_669_2.jpg\n",
      "../../data/raw/images/img_475_2.jpg\n",
      "../../data/raw/images/img_497_3.jpg\n",
      "../../data/raw/images/img_787_3.jpg\n",
      "../../data/raw/images/img_14_4.jpg\n",
      "../../data/raw/images/img_522_1.jpg\n",
      "../../data/raw/images/img_383_4.jpg\n",
      "../../data/raw/images/img_261_1.jpg\n",
      "../../data/raw/images/img_672_2.jpg\n",
      "../../data/raw/images/img_55_3.jpg\n",
      "../../data/raw/images/img_875_0.jpg\n",
      "../../data/raw/images/img_129_0.jpg\n",
      "../../data/raw/images/img_758_1.jpg\n",
      "../../data/raw/images/img_306_3.jpg\n",
      "../../data/raw/images/img_391_1.jpg\n",
      "../../data/raw/images/img_838_2.jpg\n",
      "../../data/raw/images/img_132_3.jpg\n",
      "../../data/raw/images/img_823_3.jpg\n",
      "../../data/raw/images/img_821_1.jpg\n",
      "../../data/raw/images/img_419_3.jpg\n",
      "../../data/raw/images/img_75_0.jpg\n",
      "../../data/raw/images/img_800_0.jpg\n",
      "../../data/raw/images/img_594_0.jpg\n",
      "../../data/raw/images/img_133_4.jpg\n",
      "../../data/raw/images/img_670_0.jpg\n",
      "../../data/raw/images/img_288_2.jpg\n",
      "../../data/raw/images/img_898_4.jpg\n",
      "../../data/raw/images/img_366_1.jpg\n",
      "../../data/raw/images/img_770_2.jpg\n",
      "../../data/raw/images/img_186_4.jpg\n",
      "../../data/raw/images/img_381_1.jpg\n",
      "../../data/raw/images/img_34_4.jpg\n",
      "../../data/raw/images/img_158_3.jpg\n",
      "../../data/raw/images/img_403_3.jpg\n",
      "../../data/raw/images/img_606_1.jpg\n",
      "../../data/raw/images/img_575_2.jpg\n",
      "../../data/raw/images/img_205_0.jpg\n",
      "../../data/raw/images/img_428_2.jpg\n",
      "../../data/raw/images/img_803_3.jpg\n",
      "../../data/raw/images/img_433_2.jpg\n",
      "../../data/raw/images/img_336_1.jpg\n",
      "../../data/raw/images/img_779_0.jpg\n",
      "../../data/raw/images/img_42_3.jpg\n",
      "../../data/raw/images/img_373_3.jpg\n",
      "../../data/raw/images/img_828_1.jpg\n",
      "../../data/raw/images/img_861_2.jpg\n",
      "../../data/raw/images/img_794_1.jpg\n",
      "../../data/raw/images/img_646_2.jpg\n",
      "../../data/raw/images/img_19_3.jpg\n",
      "../../data/raw/images/img_627_3.jpg\n",
      "../../data/raw/images/img_255_2.jpg\n",
      "../../data/raw/images/img_300_0.jpg\n",
      "../../data/raw/images/img_263_3.jpg\n",
      "../../data/raw/images/img_441_3.jpg\n",
      "../../data/raw/images/img_617_2.jpg\n",
      "../../data/raw/images/img_439_1.jpg\n",
      "../../data/raw/images/img_865_3.jpg\n",
      "../../data/raw/images/img_826_0.jpg\n",
      "../../data/raw/images/img_341_0.jpg\n",
      "../../data/raw/images/img_733_2.jpg\n",
      "../../data/raw/images/img_814_3.jpg\n",
      "../../data/raw/images/img_190_2.jpg\n",
      "../../data/raw/images/img_551_2.jpg\n",
      "../../data/raw/images/img_737_2.jpg\n",
      "../../data/raw/images/img_290_3.jpg\n",
      "../../data/raw/images/img_568_0.jpg\n",
      "../../data/raw/images/img_788_4.jpg\n",
      "../../data/raw/images/img_768_2.jpg\n",
      "../../data/raw/images/img_671_1.jpg\n",
      "../../data/raw/images/img_554_0.jpg\n",
      "../../data/raw/images/img_62_4.jpg\n",
      "../../data/raw/images/img_688_1.jpg\n",
      "../../data/raw/images/img_108_2.jpg\n",
      "../../data/raw/images/img_503_1.jpg\n",
      "../../data/raw/images/img_302_3.jpg\n",
      "../../data/raw/images/img_58_4.jpg\n",
      "../../data/raw/images/img_171_3.jpg\n",
      "../../data/raw/images/img_844_3.jpg\n",
      "../../data/raw/images/img_295_1.jpg\n",
      "../../data/raw/images/img_84_3.jpg\n",
      "../../data/raw/images/img_542_2.jpg\n",
      "../../data/raw/images/img_667_2.jpg\n",
      "../../data/raw/images/img_217_0.jpg\n",
      "../../data/raw/images/img_1_1.jpg\n",
      "../../data/raw/images/img_856_1.jpg\n",
      "../../data/raw/images/img_686_3.jpg\n",
      "../../data/raw/images/img_516_0.jpg\n",
      "../../data/raw/images/img_97_3.jpg\n",
      "../../data/raw/images/img_406_0.jpg\n",
      "../../data/raw/images/img_23_2.jpg\n",
      "../../data/raw/images/img_175_3.jpg\n",
      "../../data/raw/images/img_330_0.jpg\n",
      "../../data/raw/images/img_842_1.jpg\n",
      "../../data/raw/images/img_452_4.jpg\n",
      "../../data/raw/images/img_167_2.jpg\n",
      "../../data/raw/images/img_332_2.jpg\n",
      "../../data/raw/images/img_99_4.jpg\n",
      "../../data/raw/images/img_313_4.jpg\n",
      "../../data/raw/images/img_79_4.jpg\n",
      "../../data/raw/images/img_600_0.jpg\n",
      "../../data/raw/images/img_619_0.jpg\n",
      "../../data/raw/images/img_166_2.jpg\n",
      "../../data/raw/images/img_289_3.jpg\n",
      "../../data/raw/images/img_576_4.jpg\n",
      "../../data/raw/images/img_277_4.jpg\n",
      "../../data/raw/images/img_487_0.jpg\n",
      "../../data/raw/images/img_579_0.jpg\n",
      "../../data/raw/images/img_141_2.jpg\n",
      "../../data/raw/images/img_268_3.jpg\n",
      "../../data/raw/images/img_867_3.jpg\n",
      "../../data/raw/images/img_716_2.jpg\n",
      "../../data/raw/images/img_595_0.jpg\n",
      "../../data/raw/images/img_851_0.jpg\n",
      "../../data/raw/images/img_360_1.jpg\n",
      "../../data/raw/images/img_356_3.jpg\n",
      "../../data/raw/images/img_28_2.jpg\n",
      "../../data/raw/images/img_464_0.jpg\n",
      "../../data/raw/images/img_427_2.jpg\n",
      "../../data/raw/images/img_88_2.jpg\n",
      "../../data/raw/images/img_324_0.jpg\n",
      "../../data/raw/images/img_743_4.jpg\n",
      "../../data/raw/images/img_342_4.jpg\n",
      "../../data/raw/images/img_738_3.jpg\n",
      "../../data/raw/images/img_792_1.jpg\n",
      "../../data/raw/images/img_326_1.jpg\n",
      "../../data/raw/images/img_713_4.jpg\n",
      "../../data/raw/images/img_337_2.jpg\n",
      "../../data/raw/images/img_888_1.jpg\n",
      "../../data/raw/images/img_195_0.jpg\n",
      "../../data/raw/images/img_370_4.jpg\n",
      "../../data/raw/images/img_220_2.jpg\n",
      "../../data/raw/images/img_94_3.jpg\n",
      "../../data/raw/images/img_603_2.jpg\n",
      "../../data/raw/images/img_578_0.jpg\n",
      "../../data/raw/images/img_252_4.jpg\n",
      "../../data/raw/images/img_650_1.jpg\n",
      "../../data/raw/images/img_479_2.jpg\n",
      "../../data/raw/images/img_431_1.jpg\n",
      "../../data/raw/images/img_364_0.jpg\n",
      "../../data/raw/images/img_786_2.jpg\n",
      "../../data/raw/images/img_266_1.jpg\n",
      "../../data/raw/images/img_0_0.jpg\n",
      "../../data/raw/images/img_747_2.jpg\n",
      "../../data/raw/images/img_264_4.jpg\n",
      "../../data/raw/images/img_15_0.jpg\n",
      "../../data/raw/images/img_405_0.jpg\n",
      "../../data/raw/images/img_872_0.jpg\n",
      "../../data/raw/images/img_846_0.jpg\n",
      "../../data/raw/images/img_536_1.jpg\n",
      "../../data/raw/images/img_574_2.jpg\n",
      "../../data/raw/images/img_309_1.jpg\n",
      "../../data/raw/images/img_468_4.jpg\n",
      "../../data/raw/images/img_253_4.jpg\n",
      "../../data/raw/images/img_489_2.jpg\n",
      "../../data/raw/images/img_515_0.jpg\n",
      "../../data/raw/images/img_448_4.jpg\n",
      "../../data/raw/images/img_384_2.jpg\n",
      "../../data/raw/images/img_584_0.jpg\n",
      "../../data/raw/images/img_90_2.jpg\n",
      "../../data/raw/images/img_38_2.jpg\n",
      "../../data/raw/images/img_393_3.jpg\n",
      "../../data/raw/images/img_769_2.jpg\n",
      "../../data/raw/images/img_222_1.jpg\n",
      "../../data/raw/images/img_622_2.jpg\n",
      "../../data/raw/images/img_102_2.jpg\n",
      "../../data/raw/images/img_344_3.jpg\n",
      "../../data/raw/images/img_556_3.jpg\n",
      "../../data/raw/images/img_430_0.jpg\n",
      "../../data/raw/images/img_570_1.jpg\n",
      "../../data/raw/images/img_825_4.jpg\n",
      "../../data/raw/images/img_25_2.jpg\n",
      "../../data/raw/images/img_520_4.jpg\n",
      "../../data/raw/images/img_200_0.jpg\n",
      "../../data/raw/images/img_413_2.jpg\n",
      "../../data/raw/images/img_835_0.jpg\n",
      "../../data/raw/images/img_327_2.jpg\n",
      "../../data/raw/images/img_645_1.jpg\n",
      "../../data/raw/images/img_885_1.jpg\n",
      "../../data/raw/images/img_197_2.jpg\n",
      "../../data/raw/images/img_510_2.jpg\n",
      "../../data/raw/images/img_199_4.jpg\n",
      "../../data/raw/images/img_634_3.jpg\n",
      "../../data/raw/images/img_398_3.jpg\n",
      "../../data/raw/images/img_227_3.jpg\n",
      "../../data/raw/images/img_142_3.jpg\n",
      "../../data/raw/images/img_333_3.jpg\n",
      "../../data/raw/images/img_715_1.jpg\n",
      "../../data/raw/images/img_718_4.jpg\n",
      "../../data/raw/images/img_95_3.jpg\n",
      "../../data/raw/images/img_547_4.jpg\n",
      "../../data/raw/images/img_481_3.jpg\n",
      "../../data/raw/images/img_679_1.jpg\n",
      "../../data/raw/images/img_451_2.jpg\n",
      "../../data/raw/images/img_833_4.jpg\n",
      "../../data/raw/images/img_417_1.jpg\n",
      "../../data/raw/images/img_749_0.jpg\n",
      "../../data/raw/images/img_83_1.jpg\n",
      "../../data/raw/images/img_687_2.jpg\n",
      "../../data/raw/images/img_638_2.jpg\n",
      "../../data/raw/images/img_546_3.jpg\n",
      "../../data/raw/images/img_115_3.jpg\n",
      "../../data/raw/images/img_270_0.jpg\n",
      "../../data/raw/images/img_230_1.jpg\n",
      "../../data/raw/images/img_693_1.jpg\n",
      "../../data/raw/images/img_854_1.jpg\n",
      "../../data/raw/images/img_256_2.jpg\n",
      "../../data/raw/images/img_561_1.jpg\n",
      "../../data/raw/images/img_884_3.jpg\n",
      "../../data/raw/images/img_573_2.jpg\n",
      "../../data/raw/images/img_117_4.jpg\n",
      "../../data/raw/images/img_275_0.jpg\n",
      "../../data/raw/images/img_775_1.jpg\n",
      "../../data/raw/images/img_470_0.jpg\n",
      "../../data/raw/images/img_377_1.jpg\n",
      "../../data/raw/images/img_388_4.jpg\n",
      "../../data/raw/images/img_677_4.jpg\n",
      "../../data/raw/images/img_176_1.jpg\n",
      "../../data/raw/images/img_225_3.jpg\n",
      "../../data/raw/images/img_473_3.jpg\n",
      "../../data/raw/images/img_630_3.jpg\n",
      "../../data/raw/images/img_518_2.jpg\n",
      "../../data/raw/images/img_706_4.jpg\n",
      "../../data/raw/images/img_805_3.jpg\n",
      "../../data/raw/images/img_125_2.jpg\n",
      "../../data/raw/images/img_767_4.jpg\n",
      "../../data/raw/images/img_714_0.jpg\n",
      "../../data/raw/images/img_892_1.jpg\n",
      "../../data/raw/images/img_109_1.jpg\n",
      "../../data/raw/images/img_615_0.jpg\n",
      "../../data/raw/images/img_700_1.jpg\n",
      "../../data/raw/images/img_499_3.jpg\n",
      "../../data/raw/images/img_593_4.jpg\n",
      "../../data/raw/images/img_43_2.jpg\n",
      "../../data/raw/images/img_495_1.jpg\n",
      "../../data/raw/images/img_675_3.jpg\n",
      "../../data/raw/images/img_278_1.jpg\n",
      "../../data/raw/images/img_231_0.jpg\n",
      "../../data/raw/images/img_66_1.jpg\n",
      "../../data/raw/images/img_548_4.jpg\n",
      "../../data/raw/images/img_601_0.jpg\n",
      "../../data/raw/images/img_194_3.jpg\n",
      "../../data/raw/images/img_354_3.jpg\n",
      "../../data/raw/images/img_534_1.jpg\n",
      "../../data/raw/images/img_783_4.jpg\n",
      "../../data/raw/images/img_596_4.jpg\n",
      "../../data/raw/images/img_836_0.jpg\n",
      "../../data/raw/images/img_163_4.jpg\n",
      "../../data/raw/images/img_457_3.jpg\n",
      "../../data/raw/images/img_523_2.jpg\n",
      "../../data/raw/images/img_668_2.jpg\n",
      "../../data/raw/images/img_701_4.jpg\n",
      "../../data/raw/images/img_771_4.jpg\n",
      "../../data/raw/images/img_837_1.jpg\n",
      "../../data/raw/images/img_106_1.jpg\n",
      "../../data/raw/images/img_492_1.jpg\n",
      "../../data/raw/images/img_664_1.jpg\n",
      "../../data/raw/images/img_597_1.jpg\n",
      "../../data/raw/images/img_705_2.jpg\n",
      "../../data/raw/images/img_168_0.jpg\n",
      "../../data/raw/images/img_635_1.jpg\n",
      "../../data/raw/images/img_353_2.jpg\n",
      "../../data/raw/images/img_126_4.jpg\n",
      "../../data/raw/images/img_50_4.jpg\n",
      "../../data/raw/images/img_394_4.jpg\n",
      "../../data/raw/images/img_368_2.jpg\n",
      "../../data/raw/images/img_48_3.jpg\n",
      "../../data/raw/images/img_416_0.jpg\n",
      "../../data/raw/images/img_191_4.jpg\n",
      "../../data/raw/images/img_620_1.jpg\n",
      "../../data/raw/images/img_91_0.jpg\n",
      "../../data/raw/images/img_698_0.jpg\n",
      "../../data/raw/images/img_449_2.jpg\n",
      "../../data/raw/images/img_245_4.jpg\n",
      "../../data/raw/images/img_122_4.jpg\n",
      "../../data/raw/images/img_350_2.jpg\n",
      "../../data/raw/images/img_703_2.jpg\n",
      "../../data/raw/images/img_18_1.jpg\n",
      "../../data/raw/images/img_244_1.jpg\n",
      "../../data/raw/images/img_877_1.jpg\n",
      "../../data/raw/images/img_830_4.jpg\n",
      "../../data/raw/images/img_528_2.jpg\n",
      "../../data/raw/images/img_98_4.jpg\n",
      "../../data/raw/images/img_466_2.jpg\n",
      "../../data/raw/images/img_425_1.jpg\n",
      "../../data/raw/images/img_379_0.jpg\n",
      "../../data/raw/images/img_440_4.jpg\n",
      "../../data/raw/images/img_232_2.jpg\n",
      "../../data/raw/images/img_625_3.jpg\n",
      "../../data/raw/images/img_345_1.jpg\n",
      "../../data/raw/images/img_40_0.jpg\n",
      "../../data/raw/images/img_116_1.jpg\n"
     ]
    }
   ],
   "source": [
    "for row in train.itertuples():\n",
    "    print(idx.file_name)"
   ]
  },
  {
   "cell_type": "code",
   "execution_count": null,
   "id": "1ff3d2c0",
   "metadata": {},
   "outputs": [],
   "source": []
  },
  {
   "cell_type": "code",
   "execution_count": 4,
   "id": "459cd7a1",
   "metadata": {},
   "outputs": [
    {
     "ename": "FileNotFoundError",
     "evalue": "Couldn't find any class folder in ../data/raw/images.",
     "output_type": "error",
     "traceback": [
      "\u001b[0;31m---------------------------------------------------------------------------\u001b[0m",
      "\u001b[0;31mFileNotFoundError\u001b[0m                         Traceback (most recent call last)",
      "Cell \u001b[0;32mIn[4], line 2\u001b[0m\n\u001b[1;32m      1\u001b[0m trs \u001b[39m=\u001b[39m transforms\u001b[39m.\u001b[39mCompose([transforms\u001b[39m.\u001b[39mToTensor()])\n\u001b[0;32m----> 2\u001b[0m dataset \u001b[39m=\u001b[39m datasets\u001b[39m.\u001b[39;49mImageFolder(\u001b[39m'\u001b[39;49m\u001b[39m../data/raw/images\u001b[39;49m\u001b[39m'\u001b[39;49m, transform\u001b[39m=\u001b[39;49mtrs)\n",
      "File \u001b[0;32m~/miniconda3/envs/mlflow-pydata/lib/python3.10/site-packages/torchvision/datasets/folder.py:309\u001b[0m, in \u001b[0;36mImageFolder.__init__\u001b[0;34m(self, root, transform, target_transform, loader, is_valid_file)\u001b[0m\n\u001b[1;32m    301\u001b[0m \u001b[39mdef\u001b[39;00m \u001b[39m__init__\u001b[39m(\n\u001b[1;32m    302\u001b[0m     \u001b[39mself\u001b[39m,\n\u001b[1;32m    303\u001b[0m     root: \u001b[39mstr\u001b[39m,\n\u001b[0;32m   (...)\u001b[0m\n\u001b[1;32m    307\u001b[0m     is_valid_file: Optional[Callable[[\u001b[39mstr\u001b[39m], \u001b[39mbool\u001b[39m]] \u001b[39m=\u001b[39m \u001b[39mNone\u001b[39;00m,\n\u001b[1;32m    308\u001b[0m ):\n\u001b[0;32m--> 309\u001b[0m     \u001b[39msuper\u001b[39;49m()\u001b[39m.\u001b[39;49m\u001b[39m__init__\u001b[39;49m(\n\u001b[1;32m    310\u001b[0m         root,\n\u001b[1;32m    311\u001b[0m         loader,\n\u001b[1;32m    312\u001b[0m         IMG_EXTENSIONS \u001b[39mif\u001b[39;49;00m is_valid_file \u001b[39mis\u001b[39;49;00m \u001b[39mNone\u001b[39;49;00m \u001b[39melse\u001b[39;49;00m \u001b[39mNone\u001b[39;49;00m,\n\u001b[1;32m    313\u001b[0m         transform\u001b[39m=\u001b[39;49mtransform,\n\u001b[1;32m    314\u001b[0m         target_transform\u001b[39m=\u001b[39;49mtarget_transform,\n\u001b[1;32m    315\u001b[0m         is_valid_file\u001b[39m=\u001b[39;49mis_valid_file,\n\u001b[1;32m    316\u001b[0m     )\n\u001b[1;32m    317\u001b[0m     \u001b[39mself\u001b[39m\u001b[39m.\u001b[39mimgs \u001b[39m=\u001b[39m \u001b[39mself\u001b[39m\u001b[39m.\u001b[39msamples\n",
      "File \u001b[0;32m~/miniconda3/envs/mlflow-pydata/lib/python3.10/site-packages/torchvision/datasets/folder.py:144\u001b[0m, in \u001b[0;36mDatasetFolder.__init__\u001b[0;34m(self, root, loader, extensions, transform, target_transform, is_valid_file)\u001b[0m\n\u001b[1;32m    134\u001b[0m \u001b[39mdef\u001b[39;00m \u001b[39m__init__\u001b[39m(\n\u001b[1;32m    135\u001b[0m     \u001b[39mself\u001b[39m,\n\u001b[1;32m    136\u001b[0m     root: \u001b[39mstr\u001b[39m,\n\u001b[0;32m   (...)\u001b[0m\n\u001b[1;32m    141\u001b[0m     is_valid_file: Optional[Callable[[\u001b[39mstr\u001b[39m], \u001b[39mbool\u001b[39m]] \u001b[39m=\u001b[39m \u001b[39mNone\u001b[39;00m,\n\u001b[1;32m    142\u001b[0m ) \u001b[39m-\u001b[39m\u001b[39m>\u001b[39m \u001b[39mNone\u001b[39;00m:\n\u001b[1;32m    143\u001b[0m     \u001b[39msuper\u001b[39m()\u001b[39m.\u001b[39m\u001b[39m__init__\u001b[39m(root, transform\u001b[39m=\u001b[39mtransform, target_transform\u001b[39m=\u001b[39mtarget_transform)\n\u001b[0;32m--> 144\u001b[0m     classes, class_to_idx \u001b[39m=\u001b[39m \u001b[39mself\u001b[39;49m\u001b[39m.\u001b[39;49mfind_classes(\u001b[39mself\u001b[39;49m\u001b[39m.\u001b[39;49mroot)\n\u001b[1;32m    145\u001b[0m     samples \u001b[39m=\u001b[39m \u001b[39mself\u001b[39m\u001b[39m.\u001b[39mmake_dataset(\u001b[39mself\u001b[39m\u001b[39m.\u001b[39mroot, class_to_idx, extensions, is_valid_file)\n\u001b[1;32m    147\u001b[0m     \u001b[39mself\u001b[39m\u001b[39m.\u001b[39mloader \u001b[39m=\u001b[39m loader\n",
      "File \u001b[0;32m~/miniconda3/envs/mlflow-pydata/lib/python3.10/site-packages/torchvision/datasets/folder.py:218\u001b[0m, in \u001b[0;36mDatasetFolder.find_classes\u001b[0;34m(self, directory)\u001b[0m\n\u001b[1;32m    191\u001b[0m \u001b[39mdef\u001b[39;00m \u001b[39mfind_classes\u001b[39m(\u001b[39mself\u001b[39m, directory: \u001b[39mstr\u001b[39m) \u001b[39m-\u001b[39m\u001b[39m>\u001b[39m Tuple[List[\u001b[39mstr\u001b[39m], Dict[\u001b[39mstr\u001b[39m, \u001b[39mint\u001b[39m]]:\n\u001b[1;32m    192\u001b[0m \u001b[39m    \u001b[39m\u001b[39m\"\"\"Find the class folders in a dataset structured as follows::\u001b[39;00m\n\u001b[1;32m    193\u001b[0m \n\u001b[1;32m    194\u001b[0m \u001b[39m        directory/\u001b[39;00m\n\u001b[0;32m   (...)\u001b[0m\n\u001b[1;32m    216\u001b[0m \u001b[39m        (Tuple[List[str], Dict[str, int]]): List of all classes and dictionary mapping each class to an index.\u001b[39;00m\n\u001b[1;32m    217\u001b[0m \u001b[39m    \"\"\"\u001b[39;00m\n\u001b[0;32m--> 218\u001b[0m     \u001b[39mreturn\u001b[39;00m find_classes(directory)\n",
      "File \u001b[0;32m~/miniconda3/envs/mlflow-pydata/lib/python3.10/site-packages/torchvision/datasets/folder.py:42\u001b[0m, in \u001b[0;36mfind_classes\u001b[0;34m(directory)\u001b[0m\n\u001b[1;32m     40\u001b[0m classes \u001b[39m=\u001b[39m \u001b[39msorted\u001b[39m(entry\u001b[39m.\u001b[39mname \u001b[39mfor\u001b[39;00m entry \u001b[39min\u001b[39;00m os\u001b[39m.\u001b[39mscandir(directory) \u001b[39mif\u001b[39;00m entry\u001b[39m.\u001b[39mis_dir())\n\u001b[1;32m     41\u001b[0m \u001b[39mif\u001b[39;00m \u001b[39mnot\u001b[39;00m classes:\n\u001b[0;32m---> 42\u001b[0m     \u001b[39mraise\u001b[39;00m \u001b[39mFileNotFoundError\u001b[39;00m(\u001b[39mf\u001b[39m\u001b[39m\"\u001b[39m\u001b[39mCouldn\u001b[39m\u001b[39m'\u001b[39m\u001b[39mt find any class folder in \u001b[39m\u001b[39m{\u001b[39;00mdirectory\u001b[39m}\u001b[39;00m\u001b[39m.\u001b[39m\u001b[39m\"\u001b[39m)\n\u001b[1;32m     44\u001b[0m class_to_idx \u001b[39m=\u001b[39m {cls_name: i \u001b[39mfor\u001b[39;00m i, cls_name \u001b[39min\u001b[39;00m \u001b[39menumerate\u001b[39m(classes)}\n\u001b[1;32m     45\u001b[0m \u001b[39mreturn\u001b[39;00m classes, class_to_idx\n",
      "\u001b[0;31mFileNotFoundError\u001b[0m: Couldn't find any class folder in ../data/raw/images."
     ]
    }
   ],
   "source": [
    "trs = transforms.Compose([transforms.ToTensor()])\n",
    "dataset = datasets.ImageFolder('../data/raw/images', transform=trs)"
   ]
  },
  {
   "cell_type": "code",
   "execution_count": 12,
   "id": "b5c9268e-65e0-473a-bd7a-bbcfb077b7c6",
   "metadata": {
    "tags": []
   },
   "outputs": [],
   "source": [
    "img_test = cv2.imread('../data/raw/images/img_0_0.jpg',cv2.IMREAD_UNCHANGED)"
   ]
  },
  {
   "cell_type": "code",
   "execution_count": 13,
   "id": "3cecd432-3a5e-4603-8299-b61664a3a428",
   "metadata": {
    "tags": []
   },
   "outputs": [],
   "source": [
    "test = np.random.randint(0,255,size=(1,8,8))\n",
    "test = test/255"
   ]
  },
  {
   "cell_type": "code",
   "execution_count": 134,
   "id": "4aaafe84-ddba-417d-9221-7f321b04c549",
   "metadata": {
    "tags": []
   },
   "outputs": [],
   "source": [
    "training_data = datasets.FashionMNIST(\n",
    "    root=\"data\",\n",
    "    train=True,\n",
    "    download=True,\n",
    "    transform=ToTensor()\n",
    ")\n",
    "\n",
    "test_data = datasets.FashionMNIST(\n",
    "    root=\"data\",\n",
    "    train=False,\n",
    "    download=True,\n",
    "    transform=ToTensor()\n",
    ")\n",
    "\n",
    "train_dataloader = DataLoader(training_data, batch_size=64)\n",
    "test_dataloader = DataLoader(test_data, batch_size=64)"
   ]
  },
  {
   "cell_type": "code",
   "execution_count": 135,
   "id": "77c48e2c-fa24-4c15-91fe-267b98279bfa",
   "metadata": {
    "tags": []
   },
   "outputs": [
    {
     "data": {
      "text/plain": [
       "Sequential(\n",
       "  (conv_2d_1): Conv2d(1, 6, kernel_size=(2, 2), stride=(1, 1))\n",
       "  (relu): ReLU()\n",
       "  (maxpool): MaxPool2d(kernel_size=(2, 2), stride=(2, 2), padding=0, dilation=1, ceil_mode=False)\n",
       "  (drop): Dropout(p=0.2, inplace=False)\n",
       "  (flatten): Flatten(start_dim=1, end_dim=-1)\n",
       "  (linear1): Linear(in_features=1014, out_features=10, bias=True)\n",
       ")"
      ]
     },
     "execution_count": 135,
     "metadata": {},
     "output_type": "execute_result"
    }
   ],
   "source": [
    "net = nn.Sequential()\n",
    "\n",
    "# net.add_module('flatten', nn.Flatten())\n",
    "# net.add_module(f'lin1',nn.Linear(784,128))\n",
    "# net.add_module(f'act1',nn.ReLU())\n",
    "# net.add_module(f'drop1',nn.Dropout(0.2))\n",
    "# net.add_module(f'lin2',nn.Linear(128,64))\n",
    "# net.add_module(f'act2',nn.ReLU())\n",
    "# net.add_module(f'drop2',nn.Dropout(0.2))\n",
    "    \n",
    "# net.add_module(f'out',nn.Linear(64,10))\n",
    "\n",
    "net.add_module('conv_2d_1', nn.Conv2d(1, 6, kernel_size=(2,2)))\n",
    "net.add_module('relu', nn.ReLU())\n",
    "net.add_module('maxpool', nn.MaxPool2d(kernel_size=(2,2)))\n",
    "net.add_module('drop', nn.Dropout(0.2))\n",
    "net.add_module('flatten', nn.Flatten())\n",
    "net.add_module('linear1', nn.Linear(1014,10))\n",
    "\n",
    "net"
   ]
  },
  {
   "cell_type": "code",
   "execution_count": 136,
   "id": "e1d49262-9d4e-4359-be6d-e9ccb933dfe4",
   "metadata": {
    "tags": []
   },
   "outputs": [
    {
     "name": "stdout",
     "output_type": "stream",
     "text": [
      "loss: 2.311178  [    0/  938]\n",
      "loss: 2.251246  [  100/  938]\n",
      "loss: 2.200543  [  200/  938]\n",
      "loss: 2.128492  [  300/  938]\n",
      "loss: 2.054784  [  400/  938]\n",
      "loss: 1.990930  [  500/  938]\n",
      "loss: 1.932576  [  600/  938]\n",
      "loss: 1.817232  [  700/  938]\n",
      "loss: 1.791297  [  800/  938]\n",
      "loss: 1.608771  [  900/  938]\n"
     ]
    }
   ],
   "source": [
    "optmizer = optim.SGD(net.parameters(), lr = 1e-3)\n",
    "\n",
    "size = len(train_dataloader)\n",
    "net.train()\n",
    "for batch, (X,y) in enumerate(train_dataloader):\n",
    "    pred = net(X)\n",
    "    loss_fn = nn.CrossEntropyLoss()\n",
    "    loss = loss_fn(pred, y)\n",
    "    \n",
    "    loss.backward()\n",
    "    optmizer.step()\n",
    "    optmizer.zero_grad()\n",
    "    \n",
    "    if batch % 100 == 0:\n",
    "        loss, current = loss.item(), batch\n",
    "        print(f\"loss: {loss:>7f}  [{current:>5d}/{size:>5d}]\")"
   ]
  },
  {
   "cell_type": "code",
   "execution_count": null,
   "id": "ec03beff-70ec-480a-9e97-341ef0422721",
   "metadata": {},
   "outputs": [],
   "source": []
  },
  {
   "cell_type": "code",
   "execution_count": null,
   "id": "3be802b4-3bf6-4a2b-8419-c0348a51ca38",
   "metadata": {},
   "outputs": [],
   "source": []
  },
  {
   "cell_type": "code",
   "execution_count": null,
   "id": "be35287f-0c3e-486d-ac8e-3cea89225ab6",
   "metadata": {},
   "outputs": [],
   "source": []
  },
  {
   "cell_type": "code",
   "execution_count": 50,
   "id": "7c89044e-d924-40f4-a299-e6e5b341def0",
   "metadata": {
    "tags": []
   },
   "outputs": [],
   "source": [
    "arr = list(train_dataloader)[0]"
   ]
  },
  {
   "cell_type": "code",
   "execution_count": 51,
   "id": "d321d50d-ec36-4381-8a99-c46add7a0a20",
   "metadata": {
    "tags": []
   },
   "outputs": [
    {
     "data": {
      "text/plain": [
       "torch.Size([64, 1, 28, 28])"
      ]
     },
     "execution_count": 51,
     "metadata": {},
     "output_type": "execute_result"
    }
   ],
   "source": [
    "arr[0].shape"
   ]
  },
  {
   "cell_type": "code",
   "execution_count": 58,
   "id": "fce8c45a-499c-4b68-8c09-fb2d38517cc8",
   "metadata": {
    "tags": []
   },
   "outputs": [
    {
     "data": {
      "text/plain": [
       "tensor([4, 2, 3, 3, 7, 1, 3, 4, 3, 4, 3, 2, 3, 3, 3, 4, 4, 2, 4, 3, 3, 3, 3, 4,\n",
       "        3, 7, 2, 2, 3, 3, 3, 7, 3, 3, 3, 7, 7, 3, 3, 3, 6, 4, 7, 3, 2, 7, 4, 4,\n",
       "        2, 7, 4, 7, 4, 6, 3, 3, 6, 7, 6, 7, 4, 3, 3, 3])"
      ]
     },
     "execution_count": 58,
     "metadata": {},
     "output_type": "execute_result"
    }
   ],
   "source": [
    "net(arr[0]).argmax(dim=1)"
   ]
  },
  {
   "cell_type": "code",
   "execution_count": 59,
   "id": "8265aafb-c7f6-4cb9-8ab6-26624c1b8a26",
   "metadata": {
    "tags": []
   },
   "outputs": [
    {
     "data": {
      "text/plain": [
       "tensor([9, 0, 0, 3, 0, 2, 7, 2, 5, 5, 0, 9, 5, 5, 7, 9, 1, 0, 6, 4, 3, 1, 4, 8,\n",
       "        4, 3, 0, 2, 4, 4, 5, 3, 6, 6, 0, 8, 5, 2, 1, 6, 6, 7, 9, 5, 9, 2, 7, 3,\n",
       "        0, 3, 3, 3, 7, 2, 2, 6, 6, 8, 3, 3, 5, 0, 5, 5])"
      ]
     },
     "execution_count": 59,
     "metadata": {},
     "output_type": "execute_result"
    }
   ],
   "source": [
    "arr[1]"
   ]
  },
  {
   "cell_type": "code",
   "execution_count": null,
   "id": "be0a258a-4d88-4350-b4eb-d53ab2a038e2",
   "metadata": {},
   "outputs": [],
   "source": []
  },
  {
   "cell_type": "code",
   "execution_count": null,
   "id": "7d6833f7-35b7-4268-8c59-a3434eacd96d",
   "metadata": {},
   "outputs": [],
   "source": []
  },
  {
   "cell_type": "code",
   "execution_count": null,
   "id": "f2433ca7-3b6e-49ed-a106-85446bf8f2cc",
   "metadata": {},
   "outputs": [],
   "source": []
  },
  {
   "cell_type": "code",
   "execution_count": null,
   "id": "3f9d7e9f-f64e-43a7-ac0f-20dadc8f9dd9",
   "metadata": {},
   "outputs": [],
   "source": []
  },
  {
   "cell_type": "code",
   "execution_count": null,
   "id": "8b290782-f60e-4661-b29c-26faa997f37d",
   "metadata": {},
   "outputs": [],
   "source": []
  },
  {
   "cell_type": "code",
   "execution_count": null,
   "id": "4c3f9b3e-2115-48e9-832e-5866dd904069",
   "metadata": {},
   "outputs": [],
   "source": []
  },
  {
   "cell_type": "code",
   "execution_count": null,
   "id": "efe8eb9b-f538-433c-aabe-5b29a7635db3",
   "metadata": {},
   "outputs": [],
   "source": []
  },
  {
   "cell_type": "markdown",
   "id": "708aaf8f-2b23-4137-ad56-44b697ad1296",
   "metadata": {},
   "source": [
    "https://pytorch.org/tutorials/beginner/basics/optimization_tutorial.html"
   ]
  },
  {
   "cell_type": "code",
   "execution_count": null,
   "id": "017bf452-ce90-4cb2-a966-a21f737e0b44",
   "metadata": {},
   "outputs": [],
   "source": []
  },
  {
   "cell_type": "code",
   "execution_count": null,
   "id": "fff3ead8-f19c-41d8-a8f1-af266d23668f",
   "metadata": {},
   "outputs": [],
   "source": []
  },
  {
   "cell_type": "code",
   "execution_count": 75,
   "id": "37e97c51-f78a-4728-b264-0e4631510c1b",
   "metadata": {
    "tags": []
   },
   "outputs": [],
   "source": []
  },
  {
   "cell_type": "code",
   "execution_count": 76,
   "id": "bbe59a36-08d0-46ca-ac26-74559a3d2fcb",
   "metadata": {
    "tags": []
   },
   "outputs": [
    {
     "ename": "RuntimeError",
     "evalue": "mat1 and mat2 must have the same dtype",
     "output_type": "error",
     "traceback": [
      "\u001b[0;31m---------------------------------------------------------------------------\u001b[0m",
      "\u001b[0;31mRuntimeError\u001b[0m                              Traceback (most recent call last)",
      "Cell \u001b[0;32mIn[76], line 1\u001b[0m\n\u001b[0;32m----> 1\u001b[0m \u001b[43mnet\u001b[49m\u001b[43m(\u001b[49m\u001b[43minput_image\u001b[49m\u001b[43m)\u001b[49m\n",
      "File \u001b[0;32m~/miniconda3/envs/mlflow-pydata/lib/python3.10/site-packages/torch/nn/modules/module.py:1501\u001b[0m, in \u001b[0;36mModule._call_impl\u001b[0;34m(self, *args, **kwargs)\u001b[0m\n\u001b[1;32m   1496\u001b[0m \u001b[38;5;66;03m# If we don't have any hooks, we want to skip the rest of the logic in\u001b[39;00m\n\u001b[1;32m   1497\u001b[0m \u001b[38;5;66;03m# this function, and just call forward.\u001b[39;00m\n\u001b[1;32m   1498\u001b[0m \u001b[38;5;28;01mif\u001b[39;00m \u001b[38;5;129;01mnot\u001b[39;00m (\u001b[38;5;28mself\u001b[39m\u001b[38;5;241m.\u001b[39m_backward_hooks \u001b[38;5;129;01mor\u001b[39;00m \u001b[38;5;28mself\u001b[39m\u001b[38;5;241m.\u001b[39m_backward_pre_hooks \u001b[38;5;129;01mor\u001b[39;00m \u001b[38;5;28mself\u001b[39m\u001b[38;5;241m.\u001b[39m_forward_hooks \u001b[38;5;129;01mor\u001b[39;00m \u001b[38;5;28mself\u001b[39m\u001b[38;5;241m.\u001b[39m_forward_pre_hooks\n\u001b[1;32m   1499\u001b[0m         \u001b[38;5;129;01mor\u001b[39;00m _global_backward_pre_hooks \u001b[38;5;129;01mor\u001b[39;00m _global_backward_hooks\n\u001b[1;32m   1500\u001b[0m         \u001b[38;5;129;01mor\u001b[39;00m _global_forward_hooks \u001b[38;5;129;01mor\u001b[39;00m _global_forward_pre_hooks):\n\u001b[0;32m-> 1501\u001b[0m     \u001b[38;5;28;01mreturn\u001b[39;00m \u001b[43mforward_call\u001b[49m\u001b[43m(\u001b[49m\u001b[38;5;241;43m*\u001b[39;49m\u001b[43margs\u001b[49m\u001b[43m,\u001b[49m\u001b[43m \u001b[49m\u001b[38;5;241;43m*\u001b[39;49m\u001b[38;5;241;43m*\u001b[39;49m\u001b[43mkwargs\u001b[49m\u001b[43m)\u001b[49m\n\u001b[1;32m   1502\u001b[0m \u001b[38;5;66;03m# Do not call functions when jit is used\u001b[39;00m\n\u001b[1;32m   1503\u001b[0m full_backward_hooks, non_full_backward_hooks \u001b[38;5;241m=\u001b[39m [], []\n",
      "File \u001b[0;32m~/miniconda3/envs/mlflow-pydata/lib/python3.10/site-packages/torch/nn/modules/container.py:217\u001b[0m, in \u001b[0;36mSequential.forward\u001b[0;34m(self, input)\u001b[0m\n\u001b[1;32m    215\u001b[0m \u001b[38;5;28;01mdef\u001b[39;00m \u001b[38;5;21mforward\u001b[39m(\u001b[38;5;28mself\u001b[39m, \u001b[38;5;28minput\u001b[39m):\n\u001b[1;32m    216\u001b[0m     \u001b[38;5;28;01mfor\u001b[39;00m module \u001b[38;5;129;01min\u001b[39;00m \u001b[38;5;28mself\u001b[39m:\n\u001b[0;32m--> 217\u001b[0m         \u001b[38;5;28minput\u001b[39m \u001b[38;5;241m=\u001b[39m \u001b[43mmodule\u001b[49m\u001b[43m(\u001b[49m\u001b[38;5;28;43minput\u001b[39;49m\u001b[43m)\u001b[49m\n\u001b[1;32m    218\u001b[0m     \u001b[38;5;28;01mreturn\u001b[39;00m \u001b[38;5;28minput\u001b[39m\n",
      "File \u001b[0;32m~/miniconda3/envs/mlflow-pydata/lib/python3.10/site-packages/torch/nn/modules/module.py:1501\u001b[0m, in \u001b[0;36mModule._call_impl\u001b[0;34m(self, *args, **kwargs)\u001b[0m\n\u001b[1;32m   1496\u001b[0m \u001b[38;5;66;03m# If we don't have any hooks, we want to skip the rest of the logic in\u001b[39;00m\n\u001b[1;32m   1497\u001b[0m \u001b[38;5;66;03m# this function, and just call forward.\u001b[39;00m\n\u001b[1;32m   1498\u001b[0m \u001b[38;5;28;01mif\u001b[39;00m \u001b[38;5;129;01mnot\u001b[39;00m (\u001b[38;5;28mself\u001b[39m\u001b[38;5;241m.\u001b[39m_backward_hooks \u001b[38;5;129;01mor\u001b[39;00m \u001b[38;5;28mself\u001b[39m\u001b[38;5;241m.\u001b[39m_backward_pre_hooks \u001b[38;5;129;01mor\u001b[39;00m \u001b[38;5;28mself\u001b[39m\u001b[38;5;241m.\u001b[39m_forward_hooks \u001b[38;5;129;01mor\u001b[39;00m \u001b[38;5;28mself\u001b[39m\u001b[38;5;241m.\u001b[39m_forward_pre_hooks\n\u001b[1;32m   1499\u001b[0m         \u001b[38;5;129;01mor\u001b[39;00m _global_backward_pre_hooks \u001b[38;5;129;01mor\u001b[39;00m _global_backward_hooks\n\u001b[1;32m   1500\u001b[0m         \u001b[38;5;129;01mor\u001b[39;00m _global_forward_hooks \u001b[38;5;129;01mor\u001b[39;00m _global_forward_pre_hooks):\n\u001b[0;32m-> 1501\u001b[0m     \u001b[38;5;28;01mreturn\u001b[39;00m \u001b[43mforward_call\u001b[49m\u001b[43m(\u001b[49m\u001b[38;5;241;43m*\u001b[39;49m\u001b[43margs\u001b[49m\u001b[43m,\u001b[49m\u001b[43m \u001b[49m\u001b[38;5;241;43m*\u001b[39;49m\u001b[38;5;241;43m*\u001b[39;49m\u001b[43mkwargs\u001b[49m\u001b[43m)\u001b[49m\n\u001b[1;32m   1502\u001b[0m \u001b[38;5;66;03m# Do not call functions when jit is used\u001b[39;00m\n\u001b[1;32m   1503\u001b[0m full_backward_hooks, non_full_backward_hooks \u001b[38;5;241m=\u001b[39m [], []\n",
      "File \u001b[0;32m~/miniconda3/envs/mlflow-pydata/lib/python3.10/site-packages/torch/nn/modules/linear.py:114\u001b[0m, in \u001b[0;36mLinear.forward\u001b[0;34m(self, input)\u001b[0m\n\u001b[1;32m    113\u001b[0m \u001b[38;5;28;01mdef\u001b[39;00m \u001b[38;5;21mforward\u001b[39m(\u001b[38;5;28mself\u001b[39m, \u001b[38;5;28minput\u001b[39m: Tensor) \u001b[38;5;241m-\u001b[39m\u001b[38;5;241m>\u001b[39m Tensor:\n\u001b[0;32m--> 114\u001b[0m     \u001b[38;5;28;01mreturn\u001b[39;00m \u001b[43mF\u001b[49m\u001b[38;5;241;43m.\u001b[39;49m\u001b[43mlinear\u001b[49m\u001b[43m(\u001b[49m\u001b[38;5;28;43minput\u001b[39;49m\u001b[43m,\u001b[49m\u001b[43m \u001b[49m\u001b[38;5;28;43mself\u001b[39;49m\u001b[38;5;241;43m.\u001b[39;49m\u001b[43mweight\u001b[49m\u001b[43m,\u001b[49m\u001b[43m \u001b[49m\u001b[38;5;28;43mself\u001b[39;49m\u001b[38;5;241;43m.\u001b[39;49m\u001b[43mbias\u001b[49m\u001b[43m)\u001b[49m\n",
      "\u001b[0;31mRuntimeError\u001b[0m: mat1 and mat2 must have the same dtype"
     ]
    }
   ],
   "source": [
    "net(input_image)"
   ]
  },
  {
   "cell_type": "code",
   "execution_count": null,
   "id": "7711b0a3-43fb-4c1c-ba73-41130a850bcf",
   "metadata": {},
   "outputs": [],
   "source": []
  },
  {
   "cell_type": "code",
   "execution_count": null,
   "id": "b4a70202-06ac-4cd1-b951-86fb20db7bda",
   "metadata": {},
   "outputs": [],
   "source": []
  },
  {
   "cell_type": "code",
   "execution_count": 13,
   "id": "c258d4cf-7ce9-45e1-a2cd-387d252d6490",
   "metadata": {
    "tags": []
   },
   "outputs": [],
   "source": [
    "class SimpleCNN(nn.Module):\n",
    "    def __init__(self):\n",
    "        super().__init__()\n",
    "        \n",
    "        for n in range(N_LAYERS):\n",
    "            pass"
   ]
  },
  {
   "cell_type": "code",
   "execution_count": 15,
   "id": "1955acf6-cb29-4e61-ad22-3f40cfbb8abe",
   "metadata": {
    "tags": []
   },
   "outputs": [],
   "source": [
    "net = nn.Sequential()"
   ]
  },
  {
   "cell_type": "code",
   "execution_count": 17,
   "id": "698a1096-a5be-4bd6-82cf-bf93ca8f4862",
   "metadata": {
    "tags": []
   },
   "outputs": [],
   "source": [
    "net.add_module('act1',nn.ReLU())\n",
    "net.add_module('linear1',nn.Linear(20,10))\n",
    "net.add_module('conv1',nn.Conv2d(32,64,(3,3)))"
   ]
  },
  {
   "cell_type": "code",
   "execution_count": 18,
   "id": "b77433b4-80f1-4091-9656-63ea553ae356",
   "metadata": {
    "tags": []
   },
   "outputs": [
    {
     "name": "stdout",
     "output_type": "stream",
     "text": [
      "Sequential(\n",
      "  (act1): ReLU()\n",
      "  (linear1): Linear(in_features=20, out_features=10, bias=True)\n",
      "  (conv1): Conv2d(32, 64, kernel_size=(3, 3), stride=(1, 1))\n",
      ")\n"
     ]
    }
   ],
   "source": [
    "print(net)"
   ]
  },
  {
   "cell_type": "code",
   "execution_count": null,
   "id": "7254280a-c547-4197-8c11-0c812b651d43",
   "metadata": {},
   "outputs": [],
   "source": []
  },
  {
   "cell_type": "code",
   "execution_count": null,
   "id": "ac281b55-fb6a-454e-bd87-77726858cfe5",
   "metadata": {},
   "outputs": [],
   "source": []
  },
  {
   "cell_type": "code",
   "execution_count": null,
   "id": "61641fbf-e58e-4ed1-9374-a97e80fdc9d0",
   "metadata": {},
   "outputs": [],
   "source": []
  },
  {
   "cell_type": "code",
   "execution_count": null,
   "id": "1c6d9ce4-fa10-46c9-a145-2fe6aa626aee",
   "metadata": {},
   "outputs": [],
   "source": []
  },
  {
   "cell_type": "code",
   "execution_count": 60,
   "id": "c4b5fc69-2d68-4eb2-b6d7-e7d723ce9002",
   "metadata": {},
   "outputs": [],
   "source": [
    "import pandas as pd\n",
    "import glob\n",
    "import cv2\n",
    "import matplotlib.pyplot as plt\n",
    "from PIL import Image\n",
    "\n",
    "from sklearn.datasets import load_digits\n",
    "from sklearn.model_selection import train_test_split"
   ]
  },
  {
   "cell_type": "code",
   "execution_count": 43,
   "id": "19faea49-3a29-47b7-9f53-474cbf195f93",
   "metadata": {},
   "outputs": [],
   "source": [
    "data = load_digits()\n",
    "img_test = data['images'][0]\n",
    "arr = cv2.imread('test.png', cv2.IMREAD_UNCHANGED)"
   ]
  },
  {
   "cell_type": "code",
   "execution_count": 72,
   "id": "e9b7b9fb-c338-48b0-9b07-a7ca6e098137",
   "metadata": {},
   "outputs": [],
   "source": [
    "import os"
   ]
  },
  {
   "cell_type": "code",
   "execution_count": 73,
   "id": "2080f5d5-35f4-4d62-b8f1-62e18a081666",
   "metadata": {},
   "outputs": [
    {
     "data": {
      "text/plain": [
       "'../data/raw/images/*.jpg'"
      ]
     },
     "execution_count": 73,
     "metadata": {},
     "output_type": "execute_result"
    }
   ],
   "source": [
    "os.path.join('../data/raw/images','*.jpg')"
   ]
  },
  {
   "cell_type": "code",
   "execution_count": 56,
   "id": "3fb63805-0856-40bf-81c8-ed8d7ffcca3d",
   "metadata": {},
   "outputs": [
    {
     "data": {
      "text/plain": [
       "1"
      ]
     },
     "execution_count": 56,
     "metadata": {},
     "output_type": "execute_result"
    }
   ],
   "source": [
    "int(\"../data/raw/images/img_727_1.jpg\".split('_')[-1].replace('.jpg', ''))"
   ]
  },
  {
   "cell_type": "code",
   "execution_count": 71,
   "id": "74c02d7c-dcbf-49ba-9237-40b6f9a55629",
   "metadata": {},
   "outputs": [],
   "source": [
    "df_train, df_test = (\n",
    "    pd.DataFrame(glob.glob('../data/raw/images/*.jpg'), columns=['file_name'])\n",
    "    .assign(target = lambda x: x.file_name.apply(lambda z: int(z.split('_')[-1].replace('.jpg', ''))))\n",
    "    .pipe((train_test_split),test_size=0.2, random_state=42)\n",
    ")"
   ]
  },
  {
   "cell_type": "code",
   "execution_count": null,
   "id": "a930e88b-a7b9-4246-ba3c-5a724e92d949",
   "metadata": {},
   "outputs": [],
   "source": []
  },
  {
   "cell_type": "code",
   "execution_count": null,
   "id": "ef1aad85-7819-4c53-9d80-7c073af983a2",
   "metadata": {},
   "outputs": [],
   "source": []
  },
  {
   "cell_type": "code",
   "execution_count": 27,
   "id": "4b9300ca-05f7-439b-8c49-22e546adf521",
   "metadata": {},
   "outputs": [
    {
     "data": {
      "text/plain": [
       "<matplotlib.image.AxesImage at 0x7f329f3329b0>"
      ]
     },
     "execution_count": 27,
     "metadata": {},
     "output_type": "execute_result"
    },
    {
     "data": {
      "image/png": "[encoded data removed]",
      "text/plain": [
       "<Figure size 640x480 with 1 Axes>"
      ]
     },
     "metadata": {},
     "output_type": "display_data"
    }
   ],
   "source": [
    "plt.imshow(img_test)"
   ]
  },
  {
   "cell_type": "code",
   "execution_count": 25,
   "id": "ffe93799-877d-4efe-8815-923cc561ce3c",
   "metadata": {},
   "outputs": [
    {
     "data": {
      "image/jpeg": "[encoded data removed]",
      "image/png": "[encoded data removed]",
      "text/plain": [
       "<PIL.Image.Image image mode=L size=8x8>"
      ]
     },
     "execution_count": 25,
     "metadata": {},
     "output_type": "execute_result"
    }
   ],
   "source": [
    "Image.fromarray(img_test, mode='L')"
   ]
  },
  {
   "cell_type": "code",
   "execution_count": 28,
   "id": "b6edf7f6-83b6-4467-a73b-34486591a0d3",
   "metadata": {},
   "outputs": [],
   "source": [
    "arr = cv2.imread('../data/raw/images/img_0_0.jpg')"
   ]
  },
  {
   "cell_type": "code",
   "execution_count": 30,
   "id": "05e406fd-2272-4960-a682-8ce98643ba6f",
   "metadata": {},
   "outputs": [
    {
     "data": {
      "text/plain": [
       "(8, 8, 3)"
      ]
     },
     "execution_count": 30,
     "metadata": {},
     "output_type": "execute_result"
    }
   ],
   "source": [
    "arr.shape"
   ]
  },
  {
   "cell_type": "code",
   "execution_count": 13,
   "id": "615e88a7-a7ea-4af2-abf6-52a11bab2537",
   "metadata": {},
   "outputs": [
    {
     "data": {
      "text/plain": [
       "<matplotlib.image.AxesImage at 0x7f32b40d3a60>"
      ]
     },
     "execution_count": 13,
     "metadata": {},
     "output_type": "execute_result"
    },
    {
     "data": {
      "image/png": "[encoded data removed]",
      "text/plain": [
       "<Figure size 640x480 with 1 Axes>"
      ]
     },
     "metadata": {},
     "output_type": "display_data"
    }
   ],
   "source": [
    "plt.imshow(arr, cmap='viridis')"
   ]
  },
  {
   "cell_type": "code",
   "execution_count": null,
   "id": "84ba3cd9-26d4-489e-83f4-9309057e0ab7",
   "metadata": {},
   "outputs": [],
   "source": []
  }
 ],
 "metadata": {
  "kernelspec": {
   "display_name": "Python 3 (ipykernel)",
   "language": "python",
   "name": "python3"
  },
  "language_info": {
   "codemirror_mode": {
    "name": "ipython",
    "version": 3
   },
   "file_extension": ".py",
   "mimetype": "text/x-python",
   "name": "python",
   "nbconvert_exporter": "python",
   "pygments_lexer": "ipython3",
   "version": "3.10.6"
  }
 },
 "nbformat": 4,
 "nbformat_minor": 5
}
